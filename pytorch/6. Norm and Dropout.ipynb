{
 "cells": [
  {
   "cell_type": "code",
   "id": "initial_id",
   "metadata": {
    "collapsed": true,
    "ExecuteTime": {
     "end_time": "2025-09-09T20:04:35.844110Z",
     "start_time": "2025-09-09T20:04:35.826668Z"
    }
   },
   "source": [
    "import torch\n",
    "from torch import nn\n",
    "\n",
    "layer = nn.BatchNorm1d(3)\n",
    "# nn.Linear는 weight가 랜덤 초기화인데 반해 얘는 1,0으로 초기화되어있음.\n",
    "# 배치 정규화 : a((x-x바)/시그마)+b 에서 a가 weight b가 bias\n",
    "\n",
    "print(layer.weight) # 표준편차\n",
    "print(layer.bias) # 평균\n",
    "\n",
    "x = torch.randn(5,3)\n",
    "print(x)\n",
    "print(layer(x))"
   ],
   "outputs": [
    {
     "name": "stdout",
     "output_type": "stream",
     "text": [
      "Parameter containing:\n",
      "tensor([1., 1., 1.], requires_grad=True)\n",
      "Parameter containing:\n",
      "tensor([0., 0., 0.], requires_grad=True)\n",
      "tensor([[ 0.7804,  0.5485,  0.9072],\n",
      "        [-0.4048, -1.3255,  0.6525],\n",
      "        [ 1.2262, -0.6457,  0.6408],\n",
      "        [-1.5030,  0.2380,  1.8559],\n",
      "        [-0.2926, -1.5285, -0.5278]])\n",
      "tensor([[ 0.8527,  1.3241,  0.2649],\n",
      "        [-0.3810, -0.9500, -0.0700],\n",
      "        [ 1.3169, -0.1250, -0.0853],\n",
      "        [-1.5243,  0.9473,  1.5123],\n",
      "        [-0.2643, -1.1964, -1.6219]], grad_fn=<NativeBatchNormBackward0>)\n"
     ]
    }
   ],
   "execution_count": 3
  },
  {
   "metadata": {
    "ExecuteTime": {
     "end_time": "2025-09-09T20:06:40.508371Z",
     "start_time": "2025-09-09T20:06:40.493964Z"
    }
   },
   "cell_type": "code",
   "source": [
    "layer = nn.BatchNorm2d(3)\n",
    "print(layer.weight) # 표준편차\n",
    "print(layer.bias) # 평균\n",
    "\n",
    "x = torch.randn(5,3,32,32)\n",
    "print(layer(x).shape)\n",
    "# 2d 사용시 shape은 유지됨\n",
    "# 이때 배치 정규화 레이어에 들어가는 숫자는 무조건 채널의 갯수와 맞춰야함\n",
    "# 이는 채널별로 독립적으로 적용됨"
   ],
   "id": "ff3f0ee10d0423f",
   "outputs": [
    {
     "name": "stdout",
     "output_type": "stream",
     "text": [
      "Parameter containing:\n",
      "tensor([1., 1., 1.], requires_grad=True)\n",
      "Parameter containing:\n",
      "tensor([0., 0., 0.], requires_grad=True)\n",
      "torch.Size([5, 3, 32, 32])\n"
     ]
    }
   ],
   "execution_count": 4
  },
  {
   "metadata": {
    "ExecuteTime": {
     "end_time": "2025-09-09T20:38:18.865011Z",
     "start_time": "2025-09-09T20:38:18.846354Z"
    }
   },
   "cell_type": "code",
   "source": [
    "x = torch.randn(3,7)\n",
    "drop = nn.Dropout(p=0.1)\n",
    "# 이론에서는 p는 살릴확률이지만 구현에서 p는 죽일 확률\n",
    "print(x)\n",
    "print()\n",
    "print(drop(x)) # 좀더 커지는 것을 볼 수 있음\n",
    "print()\n",
    "print(drop(x)*(1-0.1)) # 이렇게 해줘야 x와 값은 똑같음\n",
    "# 이론에서는 테스트시 1-p(살아남을 확률)을 곱해서 출력을 유지시켜줌\n",
    "# 구현은 반대로 훈련 때 1/살릴 확률(1-p)을 곱하고 테스트 때는 그대로\n",
    "# 즉 구현에서 학습때 이미 키워줬으므로 테스트때 아무것도 안해도되므로 효율적임\n",
    "\n",
    "print()\n",
    "drop.eval()\n",
    "print(drop(x))"
   ],
   "id": "7422592c581a73d3",
   "outputs": [
    {
     "name": "stdout",
     "output_type": "stream",
     "text": [
      "tensor([[-0.3377,  2.5054,  2.3935, -1.4460,  0.8651,  0.4030,  1.8704],\n",
      "        [-1.1407,  1.3994,  0.1711,  0.2853,  0.0858, -0.4347,  0.8774],\n",
      "        [-0.9355, -1.7799,  1.5643, -0.8744,  0.3399,  0.2866,  0.4138]])\n",
      "\n",
      "tensor([[-0.3752,  2.7838,  2.6594, -1.6067,  0.9613,  0.0000,  2.0782],\n",
      "        [-1.2674,  1.5549,  0.1901,  0.3170,  0.0953, -0.0000,  0.9749],\n",
      "        [-1.0394, -0.0000,  1.7381, -0.9716,  0.3776,  0.3184,  0.4598]])\n",
      "\n",
      "tensor([[-0.3377,  2.5054,  2.3935, -1.4460,  0.8651,  0.4030,  1.8704],\n",
      "        [-1.1407,  1.3994,  0.1711,  0.2853,  0.0858, -0.0000,  0.8774],\n",
      "        [-0.9355, -1.7799,  1.5643, -0.8744,  0.3399,  0.2866,  0.4138]])\n",
      "\n",
      "tensor([[-0.3377,  2.5054,  2.3935, -1.4460,  0.8651,  0.4030,  1.8704],\n",
      "        [-1.1407,  1.3994,  0.1711,  0.2853,  0.0858, -0.4347,  0.8774],\n",
      "        [-0.9355, -1.7799,  1.5643, -0.8744,  0.3399,  0.2866,  0.4138]])\n"
     ]
    }
   ],
   "execution_count": 9
  },
  {
   "metadata": {},
   "cell_type": "code",
   "outputs": [],
   "execution_count": null,
   "source": "",
   "id": "cf54cda8083bbd08"
  }
 ],
 "metadata": {
  "kernelspec": {
   "display_name": "Python 3",
   "language": "python",
   "name": "python3"
  },
  "language_info": {
   "codemirror_mode": {
    "name": "ipython",
    "version": 2
   },
   "file_extension": ".py",
   "mimetype": "text/x-python",
   "name": "python",
   "nbconvert_exporter": "python",
   "pygments_lexer": "ipython2",
   "version": "2.7.6"
  }
 },
 "nbformat": 4,
 "nbformat_minor": 5
}
