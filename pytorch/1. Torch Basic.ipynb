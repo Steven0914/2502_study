{
 "cells": [
  {
   "metadata": {},
   "cell_type": "markdown",
   "source": "",
   "id": "86e6035a49b08733"
  },
  {
   "metadata": {},
   "cell_type": "markdown",
   "source": "### 파이토치 텐서",
   "id": "51f5988983a5c27b"
  },
  {
   "cell_type": "code",
   "id": "initial_id",
   "metadata": {
    "collapsed": true,
    "ExecuteTime": {
     "end_time": "2025-09-03T12:46:54.786024Z",
     "start_time": "2025-09-03T12:46:53.720048Z"
    }
   },
   "source": [
    "# pytoch tensor\n",
    "import torch\n",
    "\n",
    "a = torch.tensor([1,2,3,4])\n",
    "print(a)\n",
    "print(type(a))\n",
    "print(a.dtype) # 데이터 타입\n",
    "print(a.shape) # tensor 모양"
   ],
   "outputs": [
    {
     "name": "stdout",
     "output_type": "stream",
     "text": [
      "tensor([1, 2, 3, 4])\n",
      "<class 'torch.Tensor'>\n",
      "torch.int64\n",
      "torch.Size([4])\n"
     ]
    }
   ],
   "execution_count": 1
  },
  {
   "metadata": {
    "ExecuteTime": {
     "end_time": "2025-09-03T12:46:54.920407Z",
     "start_time": "2025-09-03T12:46:54.916522Z"
    }
   },
   "cell_type": "code",
   "source": [
    "A = torch.tensor([[1,2,3],[4,5,6]])\n",
    "print(A)\n",
    "print(A.ndim) # 차원수\n",
    "print(A.numel()) # 전체 attribute 개수"
   ],
   "id": "aafa15dbc68d1eee",
   "outputs": [
    {
     "name": "stdout",
     "output_type": "stream",
     "text": [
      "tensor([[1, 2, 3],\n",
      "        [4, 5, 6]])\n",
      "2\n",
      "6\n"
     ]
    }
   ],
   "execution_count": 2
  },
  {
   "metadata": {
    "ExecuteTime": {
     "end_time": "2025-09-03T13:29:06.351305Z",
     "start_time": "2025-09-03T13:29:06.289759Z"
    }
   },
   "cell_type": "code",
   "source": [
    "print(torch.zeros(5))\n",
    "print(torch.zeros_like(A))\n",
    "print(torch.ones(5))\n",
    "print(torch.zeros(3,3))"
   ],
   "id": "7c23096892837d3",
   "outputs": [
    {
     "name": "stdout",
     "output_type": "stream",
     "text": [
      "tensor([0., 0., 0., 0., 0.])\n",
      "tensor([[0, 0, 0],\n",
      "        [0, 0, 0]])\n",
      "tensor([1., 1., 1., 1., 1.])\n",
      "tensor([[0., 0., 0.],\n",
      "        [0., 0., 0.],\n",
      "        [0., 0., 0.]])\n"
     ]
    }
   ],
   "execution_count": 3
  },
  {
   "metadata": {
    "ExecuteTime": {
     "end_time": "2025-09-03T13:30:25.431511Z",
     "start_time": "2025-09-03T13:30:25.415502Z"
    }
   },
   "cell_type": "code",
   "source": [
    "print(torch.arange(1,10,2)) # 1부터 9까지 2 간격으로\n",
    "print(torch.linspace(0,10,10)) # 0에서 10까지 10개를 만들어라"
   ],
   "id": "2336c9509c36dbbf",
   "outputs": [
    {
     "name": "stdout",
     "output_type": "stream",
     "text": [
      "tensor([1, 3, 5, 7, 9])\n",
      "tensor([ 0.0000,  1.1111,  2.2222,  3.3333,  4.4444,  5.5556,  6.6667,  7.7778,\n",
      "         8.8889, 10.0000])\n"
     ]
    }
   ],
   "execution_count": 4
  },
  {
   "metadata": {
    "ExecuteTime": {
     "end_time": "2025-09-03T13:32:05.490044Z",
     "start_time": "2025-09-03T13:32:05.480197Z"
    }
   },
   "cell_type": "code",
   "source": [
    "# 벡터의 합\n",
    "a = torch.tensor([1,2,3])\n",
    "b = torch.tensor([4,5,6])\n",
    "c = a+b\n",
    "print(c)"
   ],
   "id": "19eab33f8c6f50c1",
   "outputs": [
    {
     "name": "stdout",
     "output_type": "stream",
     "text": [
      "tensor([5, 7, 9])\n"
     ]
    }
   ],
   "execution_count": 5
  },
  {
   "metadata": {
    "ExecuteTime": {
     "end_time": "2025-09-03T13:33:27.585171Z",
     "start_time": "2025-09-03T13:33:27.571431Z"
    }
   },
   "cell_type": "code",
   "source": [
    "a = torch.tensor([1,2,3])\n",
    "b = torch.tensor([4,5,6])\n",
    "\n",
    "c = a*b\n",
    "d = a/b\n",
    "\n",
    "print(c) # 그냥 곱하는건 성분별 곱, 나누기 (hadamard product)\n",
    "print(d)"
   ],
   "id": "69291b4b17476ff5",
   "outputs": [
    {
     "name": "stdout",
     "output_type": "stream",
     "text": [
      "tensor([ 4, 10, 18])\n",
      "tensor([0.2500, 0.4000, 0.5000])\n"
     ]
    }
   ],
   "execution_count": 6
  },
  {
   "metadata": {
    "ExecuteTime": {
     "end_time": "2025-09-03T13:35:48.856194Z",
     "start_time": "2025-09-03T13:35:48.851079Z"
    }
   },
   "cell_type": "code",
   "source": [
    "# 실제 행렬의 곱은 @\n",
    "# matmul도 존재하지만 @로도 가능\n",
    "a = torch.tensor([[1, 2],[1,2]])\n",
    "b = torch.tensor([[4, 5],[1,1]])\n",
    "print(a@b)"
   ],
   "id": "c2025066d5e93466",
   "outputs": [
    {
     "name": "stdout",
     "output_type": "stream",
     "text": [
      "tensor([[6, 7],\n",
      "        [6, 7]])\n"
     ]
    }
   ],
   "execution_count": 8
  },
  {
   "metadata": {},
   "cell_type": "markdown",
   "source": "### 파이토치 슬라이싱",
   "id": "46c7306c761e9cb0"
  },
  {
   "metadata": {
    "ExecuteTime": {
     "end_time": "2025-09-03T13:39:47.481788Z",
     "start_time": "2025-09-03T13:39:47.478183Z"
    }
   },
   "cell_type": "code",
   "source": [
    " #리스트와 동일하다!\n",
    "a = torch.tensor([1,2,3,4])\n",
    "print(a[0])\n",
    "print(a[-1])\n",
    "print(a[1:3])\n",
    "print(a[:3])\n",
    "print(a[:])"
   ],
   "id": "16542694d33f483d",
   "outputs": [
    {
     "name": "stdout",
     "output_type": "stream",
     "text": [
      "tensor(1)\n",
      "tensor(4)\n",
      "tensor([2, 3])\n",
      "tensor([1, 2, 3])\n",
      "tensor([1, 2, 3, 4])\n"
     ]
    }
   ],
   "execution_count": 10
  },
  {
   "metadata": {
    "ExecuteTime": {
     "end_time": "2025-09-03T13:49:24.263293Z",
     "start_time": "2025-09-03T13:49:24.250918Z"
    }
   },
   "cell_type": "code",
   "source": [
    "a = torch.tensor([[1,2,3],[4,5,6],[7,8,9]])\n",
    "print(a)\n",
    "print()\n",
    "\n",
    "# 이렇게하면 리스트안에 한 행에대한 인덱싱\n",
    "print(a[0])\n",
    "print(a[-1])\n",
    "print(a[1:])\n",
    "print()\n",
    "\n",
    "print(a[1,0:3:2]) # 2번째 행에서, 0부터 2열까지 2간격으로\n",
    "print(a[:,2]) # 모든 행에 대해서 3번째 열\n",
    "print(a[:][2]) # a[:] = a임\n",
    "# 참고 a[1][2]는 스칼라값을 추출, a[1:2]은 텐서를 슬라이싱해서 또 텐서"
   ],
   "id": "5b542bb399d8bc",
   "outputs": [
    {
     "name": "stdout",
     "output_type": "stream",
     "text": [
      "tensor([[1, 2, 3],\n",
      "        [4, 5, 6],\n",
      "        [7, 8, 9]])\n",
      "\n",
      "tensor([1, 2, 3])\n",
      "tensor([7, 8, 9])\n",
      "tensor([[4, 5, 6],\n",
      "        [7, 8, 9]])\n",
      "\n",
      "tensor([4, 6])\n",
      "tensor([3, 6, 9])\n",
      "tensor([7, 8, 9])\n"
     ]
    }
   ],
   "execution_count": 16
  },
  {
   "metadata": {
    "ExecuteTime": {
     "end_time": "2025-09-03T13:54:16.167092Z",
     "start_time": "2025-09-03T13:54:16.156741Z"
    }
   },
   "cell_type": "code",
   "source": [
    "# 3차원 행렬 인덱싱\n",
    "A=torch.tensor([ [[0,1,2,3],[4,5,6,7],[8,9,10,11]] ,\n",
    "                 [[12,13,14,15],[16,17,18,19],[20,21,22,23]] ])\n",
    "\n",
    "print(A)\n",
    "print(A.shape)\n",
    "print(A[0,1,2])\n",
    "# A[i][j] = A[i,j] 둘다 결과는 같으나, 뒤에꺼가 선호된다 그 이유는 A[i]를 통해 임시텐서가 나오고 그다음에 또 인덱싱이되는 것과 같음\n",
    "\n",
    "a=torch.tensor([1,2,3,4])\n",
    "# 대괄호가 하나 늘어나면 왼쪽에 shape 값이 추가 된다.\n",
    "print(a.shape)"
   ],
   "id": "b20390d8a7e0795f",
   "outputs": [
    {
     "name": "stdout",
     "output_type": "stream",
     "text": [
      "tensor([[[ 0,  1,  2,  3],\n",
      "         [ 4,  5,  6,  7],\n",
      "         [ 8,  9, 10, 11]],\n",
      "\n",
      "        [[12, 13, 14, 15],\n",
      "         [16, 17, 18, 19],\n",
      "         [20, 21, 22, 23]]])\n",
      "torch.Size([2, 3, 4])\n",
      "tensor(6)\n",
      "torch.Size([4])\n"
     ]
    }
   ],
   "execution_count": 17
  },
  {
   "metadata": {
    "ExecuteTime": {
     "end_time": "2025-09-04T14:30:45.069466Z",
     "start_time": "2025-09-04T14:30:45.047007Z"
    }
   },
   "cell_type": "code",
   "source": [
    "# boolean 인덱싱\n",
    "a=[1,2,3,4,5,3,3]\n",
    "print(a==3) # 여러개 값 들어있는 리스트랑 3 달랑 하나랑 같냐? 다르다!\n",
    "A=torch.tensor([[1,2,3,4],[5,3,7,3]])\n",
    "print(A>3) # 리스트 단일 각 성분에 대해 비교해 줌\n",
    "# True, False가 담긴 행렬로 인덱싱 가능!!\n",
    "\n",
    "A[A>3] = 100\n",
    "print(A) # 그러면 이런 것도 가능하다! (3보다 큰 애들을 100으로 바꿔줘)\n",
    "\n",
    "for i in range(A.shape[0]):\n",
    "    for j in range(A.shape[1]):\n",
    "        if A[i,j] > 3:\n",
    "            A[i,j]=100\n",
    "\n",
    "A=torch.tensor([[1,2],[3,4],[5,6],[7,8]])\n",
    "B=torch.tensor([True, False, False, True]) # 참고로 그냥 리스트여도 됨\n",
    "print(A[B,:]) # 0행, 3행 슬라이싱\n",
    "\n",
    "b=torch.tensor([1,2,3,4])\n",
    "print(b[ [True, True, False, False] ])\n",
    "# [1,2] -> [1,2,3,4]\n",
    "\n",
    "c=[1,2,3,4] # 그냥 리스트에 대해서는 boolean indexing이 안됨\n",
    "# c[[True, True, False, False]] # error!"
   ],
   "id": "95de75f3746c2900",
   "outputs": [
    {
     "name": "stdout",
     "output_type": "stream",
     "text": [
      "False\n",
      "tensor([[False, False, False,  True],\n",
      "        [ True, False,  True, False]])\n",
      "tensor([[  1,   2,   3, 100],\n",
      "        [100,   3, 100,   3]])\n",
      "tensor([[1, 2],\n",
      "        [7, 8]])\n",
      "tensor([1, 2])\n"
     ]
    }
   ],
   "execution_count": 21
  },
  {
   "metadata": {
    "ExecuteTime": {
     "end_time": "2025-09-04T19:58:25.008938Z",
     "start_time": "2025-09-04T19:58:24.937558Z"
    }
   },
   "cell_type": "code",
   "source": [
    "# tensor로 인덱싱\n",
    "a=torch.tensor([1,2,3,4,5])\n",
    "A=a[2]\n",
    "print(A)\n",
    "A=a[ torch.tensor(2) ] # torch.tensor를 안에다가?\n",
    "\n",
    "# 텐서로 인덱싱을 할경우 그 범위만큼 그대로 그 위치에 있는 텐서를 가져오게 된다.\n",
    "\n",
    "print(A)\n",
    "A=a[ torch.tensor([2,3,4]) ]\n",
    "print(A)\n",
    "A=a[ torch.tensor([[2,2,2],[3,3,3]]) ]\n",
    "print(A) # 인덱싱된 애들로 2행 3열짜리 행렬을 만든다\n",
    "\n",
    "a=[1,2,3]\n",
    "# a[[1,1,1,2,2,2]] # error!\n",
    "\n",
    "a=torch.tensor([[1,2,3],[4,5,6]])\n",
    "print(a[ torch.tensor(0) ])\n",
    "A=a[ torch.tensor([0,1]), torch.tensor([1,1]) ]\n",
    "print(A.shape) # 예를 들어, a[0] = tensor([1,2,3])과 같이 1차원 데이터이므로 한 차원이 늘어나서 2,2, \"3\"이 된다!\n",
    "print(A) # segmentation 결과 그림 보여줄 때 사용!\n",
    "\n",
    "# b에서 색상 지정하고, 이를 segmentation할때 사용\n",
    "b=torch.tensor([[225,255,0],\n",
    "                [0,255,0],\n",
    "                [0,0,255],\n",
    "                [255,0,255],\n",
    "                [70,80,75],\n",
    "                [0,0,4],\n",
    "                [60,100,255]])\n",
    "import matplotlib.pyplot as plt\n",
    "plt.imshow(b[ torch.tensor([[0,2],\n",
    "                            [1,2]]) ])"
   ],
   "id": "c4969650bbb0a3ec",
   "outputs": [
    {
     "name": "stdout",
     "output_type": "stream",
     "text": [
      "tensor(3)\n",
      "tensor(3)\n",
      "tensor([3, 4, 5])\n",
      "tensor([[3, 3, 3],\n",
      "        [4, 4, 4]])\n",
      "tensor([1, 2, 3])\n",
      "torch.Size([2])\n",
      "tensor([2, 5])\n"
     ]
    },
    {
     "data": {
      "text/plain": [
       "<matplotlib.image.AxesImage at 0x16be4dd60>"
      ]
     },
     "execution_count": 29,
     "metadata": {},
     "output_type": "execute_result"
    },
    {
     "data": {
      "text/plain": [
       "<Figure size 640x480 with 1 Axes>"
      ],
      "image/png": "[encoded data removed]"
     },
     "metadata": {},
     "output_type": "display_data"
    }
   ],
   "execution_count": 29
  },
  {
   "metadata": {
    "ExecuteTime": {
     "end_time": "2025-09-04T19:46:12.643147Z",
     "start_time": "2025-09-04T19:46:12.598811Z"
    }
   },
   "cell_type": "code",
   "source": [
    "# 위와 동일한 (5, 3) 텐서 a\n",
    "a = torch.tensor([[ 0,  1,  2],\n",
    "                  [10, 11, 12],\n",
    "                  [20, 21, 22],\n",
    "                  [30, 31, 32],\n",
    "                  [40, 41, 42]])\n",
    "\n",
    "# (2,1) 위치의 원소와 (3,2) 위치의 원소를 선택\n",
    "# 행 인덱스: [2, 3]\n",
    "# 열 인덱스: [1, 2]\n",
    "A = a[\n",
    "    torch.tensor([2, 3]),  # 행(row) 인덱스\n",
    "    torch.tensor([1, 2])   # 열(column) 인덱스\n",
    "]\n",
    "\n",
    "print(A)"
   ],
   "id": "1b2c716820e7a5a5",
   "outputs": [
    {
     "name": "stdout",
     "output_type": "stream",
     "text": [
      "tensor([21, 32])\n"
     ]
    }
   ],
   "execution_count": 26
  },
  {
   "metadata": {
    "ExecuteTime": {
     "end_time": "2025-09-04T20:02:57.148004Z",
     "start_time": "2025-09-04T20:02:57.143454Z"
    }
   },
   "cell_type": "code",
   "source": [
    "a = torch.tensor([[1, 2, 3],\n",
    "                  [4, 5, 6]])\n",
    "\n",
    "# 텐서로 인덱싱하기\n",
    "A = a[torch.tensor([[0, 1],  # 0번 행, 1번 행 가져오기\n",
    "                    [1, 1]])] # 1번 행, 1번 행 가져오기\n",
    "\n",
    "# 리스트로 인덱싱하기\n",
    "B = a[[[[[0, 0, 0],\n",
    "         [1, 1, 1]],\n",
    "        [[1, 1, 1],\n",
    "         [1, 1, 1]]], # 행부분\n",
    "\n",
    "                    [[[0, 1, 2],\n",
    "                      [0, 1, 2]],\n",
    "                     [[0, 1, 2],\n",
    "                      [0, 1, 2]]]]] # 열부분\n",
    "\n",
    "# 결과는 같음\n",
    "print(A)\n",
    "print(B)"
   ],
   "id": "76c6120a2b4241e0",
   "outputs": [
    {
     "name": "stdout",
     "output_type": "stream",
     "text": [
      "tensor([[[1, 2, 3],\n",
      "         [4, 5, 6]],\n",
      "\n",
      "        [[4, 5, 6],\n",
      "         [4, 5, 6]]])\n",
      "tensor([[[1, 2, 3],\n",
      "         [4, 5, 6]],\n",
      "\n",
      "        [[4, 5, 6],\n",
      "         [4, 5, 6]]])\n"
     ]
    }
   ],
   "execution_count": 31
  },
  {
   "metadata": {},
   "cell_type": "markdown",
   "source": "### 파이토치 함수들",
   "id": "17d78053ed2a3cdf"
  },
  {
   "metadata": {
    "ExecuteTime": {
     "end_time": "2025-09-06T10:42:22.879572Z",
     "start_time": "2025-09-06T10:42:20.411494Z"
    }
   },
   "cell_type": "code",
   "source": [
    "import torch\n",
    "\n",
    "A = torch.randn(3,3) # 정규분포에서 샘플링해서 3x3행렬 만들기(표준정규분포)\n",
    "B = torch.rand(3,3) # 0에서 1사이 uniform\n",
    "print(A)\n",
    "print(B)"
   ],
   "id": "e08a8a7f36f340c3",
   "outputs": [
    {
     "name": "stdout",
     "output_type": "stream",
     "text": [
      "tensor([[-0.4131,  0.3832,  0.7016],\n",
      "        [ 0.5455, -2.6631,  0.1982],\n",
      "        [ 0.2418,  0.4543, -3.0484]])\n",
      "tensor([[0.5748, 0.0031, 0.8272],\n",
      "        [0.4235, 0.0558, 0.0755],\n",
      "        [0.7875, 0.5685, 0.1512]])\n"
     ]
    }
   ],
   "execution_count": 2
  },
  {
   "metadata": {
    "ExecuteTime": {
     "end_time": "2025-09-06T10:52:26.591453Z",
     "start_time": "2025-09-06T10:52:26.575421Z"
    }
   },
   "cell_type": "code",
   "source": [
    "# 파이토치 함수안에는 텐서만 넣어야함.\n",
    "A=torch.randn(3,3)\n",
    "print(A)\n",
    "print(torch.abs(A))\n",
    "print(torch.sqrt(torch.abs(A)))\n",
    "print(torch.exp(A))\n",
    "print(torch.log(torch.abs(A)))\n",
    "print(torch.log(torch.exp(torch.tensor(1))))  # torch.exp(torch.tensor(1)) = e^1\n",
    "print(torch.log10(torch.tensor(10)))\n",
    "print(torch.log2(torch.tensor(2)))\n",
    "print(torch.round(A)) # 반올림\n",
    "print(torch.round(A,decimals=2)) # 소수점 둘째자리까지\n",
    "print(torch.floor(A)) # 내림\n",
    "print(torch.ceil(A)) # 올림"
   ],
   "id": "b080af3ea7bd865b",
   "outputs": [
    {
     "name": "stdout",
     "output_type": "stream",
     "text": [
      "tensor([[ 0.1575,  1.1758,  1.6290],\n",
      "        [-0.8271,  0.5659,  0.4426],\n",
      "        [-1.1336, -1.2640,  1.4722]])\n",
      "tensor([[0.1575, 1.1758, 1.6290],\n",
      "        [0.8271, 0.5659, 0.4426],\n",
      "        [1.1336, 1.2640, 1.4722]])\n",
      "tensor([[0.3968, 1.0844, 1.2763],\n",
      "        [0.9095, 0.7523, 0.6653],\n",
      "        [1.0647, 1.1243, 1.2134]])\n",
      "tensor([[1.1705, 3.2408, 5.0986],\n",
      "        [0.4373, 1.7611, 1.5568],\n",
      "        [0.3219, 0.2825, 4.3589]])\n",
      "tensor([[-1.8485,  0.1620,  0.4879],\n",
      "        [-0.1898, -0.5692, -0.8151],\n",
      "        [ 0.1254,  0.2343,  0.3868]])\n",
      "tensor(1.0000)\n",
      "tensor(1.)\n",
      "tensor(1.)\n",
      "tensor([[ 0.,  1.,  2.],\n",
      "        [-1.,  1.,  0.],\n",
      "        [-1., -1.,  1.]])\n",
      "tensor([[ 0.1600,  1.1800,  1.6300],\n",
      "        [-0.8300,  0.5700,  0.4400],\n",
      "        [-1.1300, -1.2600,  1.4700]])\n",
      "tensor([[ 0.,  1.,  1.],\n",
      "        [-1.,  0.,  0.],\n",
      "        [-2., -2.,  1.]])\n",
      "tensor([[ 1.,  2.,  2.],\n",
      "        [-0.,  1.,  1.],\n",
      "        [-1., -1.,  2.]])\n"
     ]
    }
   ],
   "execution_count": 3
  },
  {
   "metadata": {
    "ExecuteTime": {
     "end_time": "2025-09-06T11:21:40.861459Z",
     "start_time": "2025-09-06T11:21:40.830536Z"
    }
   },
   "cell_type": "code",
   "source": [
    "a = torch.randn(6, 1)\n",
    "print(a)\n",
    "a_sorted = torch.sort(a, dim=0) # torch.sort\n",
    "print(a_sorted)\n",
    "\n",
    "a = torch.randn(6, 1)\n",
    "print(a)\n",
    "print(a.sort(dim=0)) # a.sort() 위꺼와 사실상 똑같다.\n",
    "print(a.sort(dim=0, descending=True))\n",
    "\n",
    "print(torch.max(a))\n",
    "print(a.max())\n",
    "print(torch.abs(a))\n",
    "print(a.abs())\n"
   ],
   "id": "9da2b1343c48d0b1",
   "outputs": [
    {
     "name": "stdout",
     "output_type": "stream",
     "text": [
      "tensor([[0.2727],\n",
      "        [0.6525],\n",
      "        [2.2573],\n",
      "        [2.3223],\n",
      "        [0.4334],\n",
      "        [0.1813]])\n",
      "torch.return_types.sort(\n",
      "values=tensor([[0.1813],\n",
      "        [0.2727],\n",
      "        [0.4334],\n",
      "        [0.6525],\n",
      "        [2.2573],\n",
      "        [2.3223]]),\n",
      "indices=tensor([[5],\n",
      "        [0],\n",
      "        [4],\n",
      "        [1],\n",
      "        [2],\n",
      "        [3]]))\n",
      "tensor([[-0.9500],\n",
      "        [-0.3961],\n",
      "        [ 0.4306],\n",
      "        [-0.2839],\n",
      "        [-0.4059],\n",
      "        [ 0.1161]])\n",
      "torch.return_types.sort(\n",
      "values=tensor([[-0.9500],\n",
      "        [-0.4059],\n",
      "        [-0.3961],\n",
      "        [-0.2839],\n",
      "        [ 0.1161],\n",
      "        [ 0.4306]]),\n",
      "indices=tensor([[0],\n",
      "        [4],\n",
      "        [1],\n",
      "        [3],\n",
      "        [5],\n",
      "        [2]]))\n",
      "torch.return_types.sort(\n",
      "values=tensor([[ 0.4306],\n",
      "        [ 0.1161],\n",
      "        [-0.2839],\n",
      "        [-0.3961],\n",
      "        [-0.4059],\n",
      "        [-0.9500]]),\n",
      "indices=tensor([[2],\n",
      "        [5],\n",
      "        [3],\n",
      "        [1],\n",
      "        [4],\n",
      "        [0]]))\n",
      "tensor(0.4306)\n",
      "tensor(0.4306)\n",
      "tensor([[0.9500],\n",
      "        [0.3961],\n",
      "        [0.4306],\n",
      "        [0.2839],\n",
      "        [0.4059],\n",
      "        [0.1161]])\n",
      "tensor([[0.9500],\n",
      "        [0.3961],\n",
      "        [0.4306],\n",
      "        [0.2839],\n",
      "        [0.4059],\n",
      "        [0.1161]])\n"
     ]
    }
   ],
   "execution_count": 4
  },
  {
   "metadata": {
    "ExecuteTime": {
     "end_time": "2025-09-06T12:36:01.938755Z",
     "start_time": "2025-09-06T12:36:01.888930Z"
    }
   },
   "cell_type": "code",
   "source": [
    "A = torch.randint(1, 5, size=(12, )) # 1부터 5미만 12개 정수 (1차원은 (N, )과 같이 표현)\n",
    "print(A)\n",
    "print(A.shape)\n",
    "\n",
    "B = A.reshape(2, 2, 3)\n",
    "print(B)\n",
    "print(B.ndim) # 3차원 행렬이다"
   ],
   "id": "fb581475a7dc31ec",
   "outputs": [
    {
     "name": "stdout",
     "output_type": "stream",
     "text": [
      "tensor([1, 3, 2, 4, 4, 2, 4, 2, 2, 1, 1, 2])\n",
      "torch.Size([12])\n",
      "tensor([[[1, 3, 2],\n",
      "         [4, 4, 2]],\n",
      "\n",
      "        [[4, 2, 2],\n",
      "         [1, 1, 2]]])\n",
      "3\n"
     ]
    }
   ],
   "execution_count": 5
  },
  {
   "metadata": {
    "ExecuteTime": {
     "end_time": "2025-09-06T12:40:07.519489Z",
     "start_time": "2025-09-06T12:40:07.509906Z"
    }
   },
   "cell_type": "code",
   "source": [
    "A = torch.arange(20, )\n",
    "print(A)\n",
    "print(A.reshape(4, 5))\n",
    "print(A.reshape(4, -1).shape) # 4개 행이 되도록 열의 수를 맞춰준다!\n",
    "print(A.reshape(2, 5, -1).shape)\n",
    "print(A.reshape(2, -1, 5).shape)\n",
    "print(A.reshape(1, -1).shape) # 2차원 행 벡터\n",
    "print(A.reshape(-1, 1).shape) # 2차원 열 벡터\n",
    "# -1은 한번만 사용가능, 요소 갯수는 고정이니 한번만 가능"
   ],
   "id": "308a27ace729931a",
   "outputs": [
    {
     "name": "stdout",
     "output_type": "stream",
     "text": [
      "tensor([ 0,  1,  2,  3,  4,  5,  6,  7,  8,  9, 10, 11, 12, 13, 14, 15, 16, 17,\n",
      "        18, 19])\n",
      "tensor([[ 0,  1,  2,  3,  4],\n",
      "        [ 5,  6,  7,  8,  9],\n",
      "        [10, 11, 12, 13, 14],\n",
      "        [15, 16, 17, 18, 19]])\n",
      "torch.Size([4, 5])\n",
      "torch.Size([2, 5, 2])\n",
      "torch.Size([2, 2, 5])\n",
      "torch.Size([1, 20])\n",
      "torch.Size([20, 1])\n"
     ]
    }
   ],
   "execution_count": 6
  },
  {
   "metadata": {
    "ExecuteTime": {
     "end_time": "2025-09-06T15:04:58.006066Z",
     "start_time": "2025-09-06T15:04:57.944020Z"
    }
   },
   "cell_type": "code",
   "source": [
    "# 내적하는 법\n",
    "# 방법 1 : 각각 요소 곱하고 더하기\n",
    "a = torch.Tensor([1, 2, 3])\n",
    "b = torch.Tensor([2, 2, 1])\n",
    "print(torch.sum(a * b))\n",
    "\n",
    "# 방법 2\n",
    "a = a.reshape(3, 1)\n",
    "b = b.reshape(3, 1)\n",
    "print(a.transpose(1, 0) @ b) # transpose(1,0) : 1차원과 0차원을 바꾼다. 2개만 바꿀수 있음\n",
    "print(a.permute(1, 0) @ b) # 차원의 순서를 변경, 더 큰 차원에서도 가능\n",
    "print(a.T @ b) # Transpose인데 큰차원에서도 가능\n",
    "print(a.t() @ b) # 2차원 텐서에만 사용 가능한 transpose\n",
    "\n",
    "A = torch.randn(4, 3, 6)\n",
    "print(A.permute(0, 2, 1).shape)\n",
    "print(A.transpose(2, 1).shape) # transpose 는 둘끼리 자리 바꾸기만 가능"
   ],
   "id": "890eaea9c8899c24",
   "outputs": [
    {
     "name": "stdout",
     "output_type": "stream",
     "text": [
      "tensor(9.)\n",
      "tensor([[9.]])\n",
      "tensor([[9.]])\n",
      "tensor([[9.]])\n",
      "tensor([[9.]])\n",
      "torch.Size([4, 6, 3])\n",
      "torch.Size([4, 6, 3])\n"
     ]
    }
   ],
   "execution_count": 7
  },
  {
   "metadata": {
    "ExecuteTime": {
     "end_time": "2025-09-06T17:41:30.052700Z",
     "start_time": "2025-09-06T17:41:30.005421Z"
    }
   },
   "cell_type": "code",
   "source": [
    "x = torch.randn(2,3,4,5,6)\n",
    "print(x[1,2,:,:,:].shape) # 차원 전부 선택하는거면 전부 선택할거여면 :로 하면됨\n",
    "print(x[1,2,...].shape)\n",
    "\n",
    "# x[1, 2, ...]는 x[1, 2, :, :, :]와 같습니다.\n",
    "print(x[:,:,:,:,3].shape)\n",
    "\n",
    "print(x[...,3].shape)\n",
    "\n",
    "# x[..., 3]는 x[:, :, :, :, 3]와 같습니다.\n",
    "print(x[1,:,:,3,:].shape)\n",
    "print(x[1,...,3,:].shape) # x[1, ..., 3, :]는 x[1, :, :, 3, :]와 같습니다."
   ],
   "id": "e4ab838f036f7234",
   "outputs": [
    {
     "name": "stdout",
     "output_type": "stream",
     "text": [
      "torch.Size([4, 5, 6])\n",
      "torch.Size([4, 5, 6])\n",
      "torch.Size([2, 3, 4, 5])\n",
      "torch.Size([2, 3, 4, 5])\n",
      "torch.Size([3, 4, 6])\n",
      "torch.Size([3, 4, 6])\n"
     ]
    }
   ],
   "execution_count": 8
  },
  {
   "metadata": {
    "ExecuteTime": {
     "end_time": "2025-09-06T17:48:51.816886Z",
     "start_time": "2025-09-06T17:48:51.795093Z"
    }
   },
   "cell_type": "code",
   "source": [
    "A = torch.ones(3, 4)\n",
    "B = torch.zeros(3, 4)\n",
    "C = torch.vstack([A, B])\n",
    "D = torch.hstack([A, B])\n",
    "# v는 0번째 차원\n",
    "# h는 1번째 차원에 쌓는다. (A,B 사이즈 (2,3,4)로 추가 해보기)\n",
    "# 즉 v는 행방향으로 쌓기, h는 열방향으로 쌓기\n",
    "\n",
    "# cat이 더 일반적인 방법, 차원을 정해서 쌓을 수 있음.\n",
    "# 3차원 이상에서는\n",
    "E = torch.cat([A, B], dim=0)\n",
    "F = torch.cat([A, B], dim=1)\n",
    "\n",
    "print(C)\n",
    "print(D)\n",
    "print(E)\n",
    "print(F)"
   ],
   "id": "34f2afd9933ee2ab",
   "outputs": [
    {
     "name": "stdout",
     "output_type": "stream",
     "text": [
      "tensor([[1., 1., 1., 1.],\n",
      "        [1., 1., 1., 1.],\n",
      "        [1., 1., 1., 1.],\n",
      "        [0., 0., 0., 0.],\n",
      "        [0., 0., 0., 0.],\n",
      "        [0., 0., 0., 0.]])\n",
      "tensor([[1., 1., 1., 1., 0., 0., 0., 0.],\n",
      "        [1., 1., 1., 1., 0., 0., 0., 0.],\n",
      "        [1., 1., 1., 1., 0., 0., 0., 0.]])\n",
      "tensor([[1., 1., 1., 1.],\n",
      "        [1., 1., 1., 1.],\n",
      "        [1., 1., 1., 1.],\n",
      "        [0., 0., 0., 0.],\n",
      "        [0., 0., 0., 0.],\n",
      "        [0., 0., 0., 0.]])\n",
      "tensor([[1., 1., 1., 1., 0., 0., 0., 0.],\n",
      "        [1., 1., 1., 1., 0., 0., 0., 0.],\n",
      "        [1., 1., 1., 1., 0., 0., 0., 0.]])\n"
     ]
    }
   ],
   "execution_count": 9
  },
  {
   "metadata": {
    "ExecuteTime": {
     "end_time": "2025-09-06T18:06:13.285376Z",
     "start_time": "2025-09-06T18:06:13.275233Z"
    }
   },
   "cell_type": "code",
   "source": [
    "# squeeze 함수 : 1짜리 차원을 업애주는 역할\n",
    "A = torch.randn(1,1,1,3,1,1,1,4,1,1,1)\n",
    "# print(A)\n",
    "print(A.shape)\n",
    "print(A.squeeze().shape)\n",
    "print(A.squeeze(dim=(0,2,4,5)).shape)  # 차원을 지정해서 없앨수도 있음"
   ],
   "id": "5cb17bbaa4b31fbc",
   "outputs": [
    {
     "name": "stdout",
     "output_type": "stream",
     "text": [
      "torch.Size([1, 1, 1, 3, 1, 1, 1, 4, 1, 1, 1])\n",
      "torch.Size([3, 4])\n",
      "torch.Size([1, 3, 1, 4, 1, 1, 1])\n"
     ]
    }
   ],
   "execution_count": 10
  },
  {
   "metadata": {
    "ExecuteTime": {
     "end_time": "2025-09-06T18:16:12.106234Z",
     "start_time": "2025-09-06T18:16:12.092115Z"
    }
   },
   "cell_type": "code",
   "source": [
    "# unsqueeze : 1짜리 차원을 더해주는 역할, n차원 앞에 1차원이 추가됨\n",
    "A = torch.randn(3,4)\n",
    "print(A.unsqueeze(dim=0).shape)\n",
    "print(A.unsqueeze(dim=1).shape)\n",
    "print(A.unsqueeze(dim=2).shape)\n",
    "\n",
    "# reshape로 해도 똑같긴하지만 나머지 차원도 써줘야한다는 차이가 있다.\n",
    "print(A.reshape(1,3,4).shape)\n",
    "print(A.reshape(3,1,4).shape)\n",
    "print(A.reshape(3,4,1).shape)"
   ],
   "id": "90195b777fad1cfd",
   "outputs": [
    {
     "name": "stdout",
     "output_type": "stream",
     "text": [
      "torch.Size([1, 3, 4])\n",
      "torch.Size([3, 1, 4])\n",
      "torch.Size([3, 4, 1])\n",
      "torch.Size([1, 3, 4])\n",
      "torch.Size([3, 1, 4])\n",
      "torch.Size([3, 4, 1])\n"
     ]
    }
   ],
   "execution_count": 11
  },
  {
   "metadata": {
    "ExecuteTime": {
     "end_time": "2025-09-06T18:18:21.220633Z",
     "start_time": "2025-09-06T18:18:21.205882Z"
    }
   },
   "cell_type": "code",
   "source": [
    "# clone() 함수 :\n",
    "A = torch.tensor(([[1, 2], [3, 4]]))\n",
    "B = A # 이렇게 하면 주소까지 같이 복사됨, 즉 동일한 변수가 됨\n",
    "B[0, 0] = 100\n",
    "\n",
    "print(B)\n",
    "print(A)\n"
   ],
   "id": "2ae104a3bd2fe8d0",
   "outputs": [
    {
     "name": "stdout",
     "output_type": "stream",
     "text": [
      "tensor([[100,   2],\n",
      "        [  3,   4]])\n",
      "tensor([[100,   2],\n",
      "        [  3,   4]])\n"
     ]
    }
   ],
   "execution_count": 12
  },
  {
   "metadata": {
    "ExecuteTime": {
     "end_time": "2025-09-06T18:19:56.939062Z",
     "start_time": "2025-09-06T18:19:56.921660Z"
    }
   },
   "cell_type": "code",
   "source": [
    "A = torch.tensor(([[1, 2], [3, 4]]))\n",
    "B = A.clone() # 이렇게 해야 B만 바뀜\n",
    "B[0, 0] = 100\n",
    "\n",
    "print(B)\n",
    "print(A)"
   ],
   "id": "ff1a0ee41a3b130a",
   "outputs": [
    {
     "name": "stdout",
     "output_type": "stream",
     "text": [
      "tensor([[100,   2],\n",
      "        [  3,   4]])\n",
      "tensor([[1, 2],\n",
      "        [3, 4]])\n"
     ]
    }
   ],
   "execution_count": 13
  },
  {
   "metadata": {
    "ExecuteTime": {
     "end_time": "2025-09-06T18:23:07.867201Z",
     "start_time": "2025-09-06T18:23:07.850209Z"
    }
   },
   "cell_type": "code",
   "source": [
    "# 일반적인 행렬의 곱연산\n",
    "A = torch.randn(5, 7)\n",
    "B = torch.randn(7, 10)\n",
    "C = A @ B\n",
    "print(C.shape)\n",
    "\n",
    "# 32개를 5x7 @ 7x10 을 각각 계산해서 5x10 32개가 나옴\n",
    "A = torch.randn(32, 5, 7)\n",
    "B = torch.randn(32, 7, 10)\n",
    "C = A @ B\n",
    "print(C.shape)"
   ],
   "id": "4790a97f30698edf",
   "outputs": [
    {
     "name": "stdout",
     "output_type": "stream",
     "text": [
      "torch.Size([5, 10])\n",
      "torch.Size([32, 5, 10])\n"
     ]
    }
   ],
   "execution_count": 14
  },
  {
   "metadata": {
    "ExecuteTime": {
     "end_time": "2025-09-06T18:25:09.136696Z",
     "start_time": "2025-09-06T18:25:09.118976Z"
    }
   },
   "cell_type": "code",
   "source": [
    "A = torch.randn(32, 5, 7)\n",
    "B = torch.randn(7, 10) # 이렇게하면 7, 10가 32개 복제돼서 계산됨\n",
    "\n",
    "C = A @ B\n",
    "print(C.shape)\n"
   ],
   "id": "f674d3ff6af815b4",
   "outputs": [
    {
     "name": "stdout",
     "output_type": "stream",
     "text": [
      "torch.Size([32, 5, 10])\n"
     ]
    }
   ],
   "execution_count": 15
  },
  {
   "metadata": {},
   "cell_type": "code",
   "outputs": [],
   "execution_count": null,
   "source": "",
   "id": "2af875827473a49f"
  }
 ],
 "metadata": {
  "kernelspec": {
   "display_name": "Python 3",
   "language": "python",
   "name": "python3"
  },
  "language_info": {
   "codemirror_mode": {
    "name": "ipython",
    "version": 2
   },
   "file_extension": ".py",
   "mimetype": "text/x-python",
   "name": "python",
   "nbconvert_exporter": "python",
   "pygments_lexer": "ipython2",
   "version": "2.7.6"
  }
 },
 "nbformat": 4,
 "nbformat_minor": 5
}
