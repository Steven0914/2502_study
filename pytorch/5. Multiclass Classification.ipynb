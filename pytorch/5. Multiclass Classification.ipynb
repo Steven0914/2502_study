{
 "cells": [
  {
   "cell_type": "code",
   "id": "initial_id",
   "metadata": {
    "collapsed": true,
    "ExecuteTime": {
     "end_time": "2025-09-09T12:13:14.760668Z",
     "start_time": "2025-09-09T12:13:12.694399Z"
    }
   },
   "source": [
    "import torch\n",
    "from torchvision import datasets, transforms\n",
    "import matplotlib.pyplot as plt"
   ],
   "outputs": [],
   "execution_count": 1
  },
  {
   "metadata": {
    "ExecuteTime": {
     "end_time": "2025-09-09T12:17:03.800013Z",
     "start_time": "2025-09-09T12:17:03.792867Z"
    }
   },
   "cell_type": "code",
   "source": [
    "DEVICE = \"cuda\" if torch.cuda.is_available() else \"cpu\"\n",
    "print(DEVICE)"
   ],
   "id": "a606295f60204317",
   "outputs": [
    {
     "name": "stdout",
     "output_type": "stream",
     "text": [
      "cpu\n"
     ]
    }
   ],
   "execution_count": 2
  },
  {
   "metadata": {
    "ExecuteTime": {
     "end_time": "2025-09-09T12:34:58.967125Z",
     "start_time": "2025-09-09T12:34:45.070053Z"
    }
   },
   "cell_type": "code",
   "source": [
    "transform = transforms.ToTensor()\n",
    "# 모델을 받을때 numpy나 PIL형태로 받아오기때문에, 이를 텐서의 형태로 변환\n",
    "# 또한 (Channel, Height, Width)로 바꿔주는 기능도 있음\n",
    "train_DS = datasets.MNIST(root = './data', train=True, transform=transform, download=True)\n",
    "test_DS = datasets.MNIST(root = './data', train=False, transform=transform, download=True)\n",
    "\n",
    "print(train_DS)\n",
    "print(test_DS)\n",
    "print(len(train_DS))\n",
    "print(len(test_DS))"
   ],
   "id": "82c748cf0fc6535f",
   "outputs": [
    {
     "name": "stdout",
     "output_type": "stream",
     "text": [
      "Downloading http://yann.lecun.com/exdb/mnist/train-images-idx3-ubyte.gz\n",
      "Failed to download (trying next):\n",
      "HTTP Error 404: Not Found\n",
      "\n",
      "Downloading https://ossci-datasets.s3.amazonaws.com/mnist/train-images-idx3-ubyte.gz\n",
      "Downloading https://ossci-datasets.s3.amazonaws.com/mnist/train-images-idx3-ubyte.gz to ./data/MNIST/raw/train-images-idx3-ubyte.gz\n"
     ]
    },
    {
     "name": "stderr",
     "output_type": "stream",
     "text": [
      "100.0%\n"
     ]
    },
    {
     "name": "stdout",
     "output_type": "stream",
     "text": [
      "Extracting ./data/MNIST/raw/train-images-idx3-ubyte.gz to ./data/MNIST/raw\n",
      "\n",
      "Downloading http://yann.lecun.com/exdb/mnist/train-labels-idx1-ubyte.gz\n",
      "Failed to download (trying next):\n",
      "HTTP Error 404: Not Found\n",
      "\n",
      "Downloading https://ossci-datasets.s3.amazonaws.com/mnist/train-labels-idx1-ubyte.gz\n",
      "Downloading https://ossci-datasets.s3.amazonaws.com/mnist/train-labels-idx1-ubyte.gz to ./data/MNIST/raw/train-labels-idx1-ubyte.gz\n"
     ]
    },
    {
     "name": "stderr",
     "output_type": "stream",
     "text": [
      "100.0%\n"
     ]
    },
    {
     "name": "stdout",
     "output_type": "stream",
     "text": [
      "Extracting ./data/MNIST/raw/train-labels-idx1-ubyte.gz to ./data/MNIST/raw\n",
      "\n",
      "Downloading http://yann.lecun.com/exdb/mnist/t10k-images-idx3-ubyte.gz\n",
      "Failed to download (trying next):\n",
      "HTTP Error 404: Not Found\n",
      "\n",
      "Downloading https://ossci-datasets.s3.amazonaws.com/mnist/t10k-images-idx3-ubyte.gz\n",
      "Downloading https://ossci-datasets.s3.amazonaws.com/mnist/t10k-images-idx3-ubyte.gz to ./data/MNIST/raw/t10k-images-idx3-ubyte.gz\n"
     ]
    },
    {
     "name": "stderr",
     "output_type": "stream",
     "text": [
      "100.0%\n"
     ]
    },
    {
     "name": "stdout",
     "output_type": "stream",
     "text": [
      "Extracting ./data/MNIST/raw/t10k-images-idx3-ubyte.gz to ./data/MNIST/raw\n",
      "\n",
      "Downloading http://yann.lecun.com/exdb/mnist/t10k-labels-idx1-ubyte.gz\n",
      "Failed to download (trying next):\n",
      "HTTP Error 404: Not Found\n",
      "\n",
      "Downloading https://ossci-datasets.s3.amazonaws.com/mnist/t10k-labels-idx1-ubyte.gz\n",
      "Downloading https://ossci-datasets.s3.amazonaws.com/mnist/t10k-labels-idx1-ubyte.gz to ./data/MNIST/raw/t10k-labels-idx1-ubyte.gz\n"
     ]
    },
    {
     "name": "stderr",
     "output_type": "stream",
     "text": [
      "100.0%"
     ]
    },
    {
     "name": "stdout",
     "output_type": "stream",
     "text": [
      "Extracting ./data/MNIST/raw/t10k-labels-idx1-ubyte.gz to ./data/MNIST/raw\n",
      "\n",
      "Dataset MNIST\n",
      "    Number of datapoints: 60000\n",
      "    Root location: ./data\n",
      "    Split: Train\n",
      "    StandardTransform\n",
      "Transform: ToTensor()\n",
      "Dataset MNIST\n",
      "    Number of datapoints: 10000\n",
      "    Root location: ./data\n",
      "    Split: Test\n",
      "    StandardTransform\n",
      "Transform: ToTensor()\n",
      "60000\n",
      "10000\n"
     ]
    },
    {
     "name": "stderr",
     "output_type": "stream",
     "text": [
      "\n"
     ]
    }
   ],
   "execution_count": 3
  },
  {
   "metadata": {
    "ExecuteTime": {
     "end_time": "2025-09-09T12:59:54.788870Z",
     "start_time": "2025-09-09T12:59:54.768019Z"
    }
   },
   "cell_type": "code",
   "source": "train_DS.classes",
   "id": "d36916f37016eb9c",
   "outputs": [
    {
     "data": {
      "text/plain": [
       "['0 - zero',\n",
       " '1 - one',\n",
       " '2 - two',\n",
       " '3 - three',\n",
       " '4 - four',\n",
       " '5 - five',\n",
       " '6 - six',\n",
       " '7 - seven',\n",
       " '8 - eight',\n",
       " '9 - nine']"
      ]
     },
     "execution_count": 4,
     "metadata": {},
     "output_type": "execute_result"
    }
   ],
   "execution_count": 4
  },
  {
   "metadata": {
    "ExecuteTime": {
     "end_time": "2025-09-09T13:00:11.293797Z",
     "start_time": "2025-09-09T13:00:11.290852Z"
    }
   },
   "cell_type": "code",
   "source": "train_DS.class_to_idx # 왼쪽 : 클래스 이름 , 오른쪽 레이블",
   "id": "5dd46746d6bec1f2",
   "outputs": [
    {
     "data": {
      "text/plain": [
       "{'0 - zero': 0,\n",
       " '1 - one': 1,\n",
       " '2 - two': 2,\n",
       " '3 - three': 3,\n",
       " '4 - four': 4,\n",
       " '5 - five': 5,\n",
       " '6 - six': 6,\n",
       " '7 - seven': 7,\n",
       " '8 - eight': 8,\n",
       " '9 - nine': 9}"
      ]
     },
     "execution_count": 5,
     "metadata": {},
     "output_type": "execute_result"
    }
   ],
   "execution_count": 5
  },
  {
   "metadata": {
    "ExecuteTime": {
     "end_time": "2025-09-09T13:04:04.272287Z",
     "start_time": "2025-09-09T13:04:04.269408Z"
    }
   },
   "cell_type": "code",
   "source": "train_DS.data.shape",
   "id": "f5bf5fb4ea8775d9",
   "outputs": [
    {
     "data": {
      "text/plain": [
       "torch.Size([60000, 28, 28])"
      ]
     },
     "execution_count": 7,
     "metadata": {},
     "output_type": "execute_result"
    }
   ],
   "execution_count": 7
  },
  {
   "metadata": {
    "ExecuteTime": {
     "end_time": "2025-09-09T13:15:00.992709Z",
     "start_time": "2025-09-09T13:15:00.975277Z"
    }
   },
   "cell_type": "code",
   "source": "train_DS.data[0]",
   "id": "8536bce982cda541",
   "outputs": [
    {
     "data": {
      "text/plain": [
       "tensor([[  0,   0,   0,   0,   0,   0,   0,   0,   0,   0,   0,   0,   0,   0,\n",
       "           0,   0,   0,   0,   0,   0,   0,   0,   0,   0,   0,   0,   0,   0],\n",
       "        [  0,   0,   0,   0,   0,   0,   0,   0,   0,   0,   0,   0,   0,   0,\n",
       "           0,   0,   0,   0,   0,   0,   0,   0,   0,   0,   0,   0,   0,   0],\n",
       "        [  0,   0,   0,   0,   0,   0,   0,   0,   0,   0,   0,   0,   0,   0,\n",
       "           0,   0,   0,   0,   0,   0,   0,   0,   0,   0,   0,   0,   0,   0],\n",
       "        [  0,   0,   0,   0,   0,   0,   0,   0,   0,   0,   0,   0,   0,   0,\n",
       "           0,   0,   0,   0,   0,   0,   0,   0,   0,   0,   0,   0,   0,   0],\n",
       "        [  0,   0,   0,   0,   0,   0,   0,   0,   0,   0,   0,   0,   0,   0,\n",
       "           0,   0,   0,   0,   0,   0,   0,   0,   0,   0,   0,   0,   0,   0],\n",
       "        [  0,   0,   0,   0,   0,   0,   0,   0,   0,   0,   0,   0,   3,  18,\n",
       "          18,  18, 126, 136, 175,  26, 166, 255, 247, 127,   0,   0,   0,   0],\n",
       "        [  0,   0,   0,   0,   0,   0,   0,   0,  30,  36,  94, 154, 170, 253,\n",
       "         253, 253, 253, 253, 225, 172, 253, 242, 195,  64,   0,   0,   0,   0],\n",
       "        [  0,   0,   0,   0,   0,   0,   0,  49, 238, 253, 253, 253, 253, 253,\n",
       "         253, 253, 253, 251,  93,  82,  82,  56,  39,   0,   0,   0,   0,   0],\n",
       "        [  0,   0,   0,   0,   0,   0,   0,  18, 219, 253, 253, 253, 253, 253,\n",
       "         198, 182, 247, 241,   0,   0,   0,   0,   0,   0,   0,   0,   0,   0],\n",
       "        [  0,   0,   0,   0,   0,   0,   0,   0,  80, 156, 107, 253, 253, 205,\n",
       "          11,   0,  43, 154,   0,   0,   0,   0,   0,   0,   0,   0,   0,   0],\n",
       "        [  0,   0,   0,   0,   0,   0,   0,   0,   0,  14,   1, 154, 253,  90,\n",
       "           0,   0,   0,   0,   0,   0,   0,   0,   0,   0,   0,   0,   0,   0],\n",
       "        [  0,   0,   0,   0,   0,   0,   0,   0,   0,   0,   0, 139, 253, 190,\n",
       "           2,   0,   0,   0,   0,   0,   0,   0,   0,   0,   0,   0,   0,   0],\n",
       "        [  0,   0,   0,   0,   0,   0,   0,   0,   0,   0,   0,  11, 190, 253,\n",
       "          70,   0,   0,   0,   0,   0,   0,   0,   0,   0,   0,   0,   0,   0],\n",
       "        [  0,   0,   0,   0,   0,   0,   0,   0,   0,   0,   0,   0,  35, 241,\n",
       "         225, 160, 108,   1,   0,   0,   0,   0,   0,   0,   0,   0,   0,   0],\n",
       "        [  0,   0,   0,   0,   0,   0,   0,   0,   0,   0,   0,   0,   0,  81,\n",
       "         240, 253, 253, 119,  25,   0,   0,   0,   0,   0,   0,   0,   0,   0],\n",
       "        [  0,   0,   0,   0,   0,   0,   0,   0,   0,   0,   0,   0,   0,   0,\n",
       "          45, 186, 253, 253, 150,  27,   0,   0,   0,   0,   0,   0,   0,   0],\n",
       "        [  0,   0,   0,   0,   0,   0,   0,   0,   0,   0,   0,   0,   0,   0,\n",
       "           0,  16,  93, 252, 253, 187,   0,   0,   0,   0,   0,   0,   0,   0],\n",
       "        [  0,   0,   0,   0,   0,   0,   0,   0,   0,   0,   0,   0,   0,   0,\n",
       "           0,   0,   0, 249, 253, 249,  64,   0,   0,   0,   0,   0,   0,   0],\n",
       "        [  0,   0,   0,   0,   0,   0,   0,   0,   0,   0,   0,   0,   0,   0,\n",
       "          46, 130, 183, 253, 253, 207,   2,   0,   0,   0,   0,   0,   0,   0],\n",
       "        [  0,   0,   0,   0,   0,   0,   0,   0,   0,   0,   0,   0,  39, 148,\n",
       "         229, 253, 253, 253, 250, 182,   0,   0,   0,   0,   0,   0,   0,   0],\n",
       "        [  0,   0,   0,   0,   0,   0,   0,   0,   0,   0,  24, 114, 221, 253,\n",
       "         253, 253, 253, 201,  78,   0,   0,   0,   0,   0,   0,   0,   0,   0],\n",
       "        [  0,   0,   0,   0,   0,   0,   0,   0,  23,  66, 213, 253, 253, 253,\n",
       "         253, 198,  81,   2,   0,   0,   0,   0,   0,   0,   0,   0,   0,   0],\n",
       "        [  0,   0,   0,   0,   0,   0,  18, 171, 219, 253, 253, 253, 253, 195,\n",
       "          80,   9,   0,   0,   0,   0,   0,   0,   0,   0,   0,   0,   0,   0],\n",
       "        [  0,   0,   0,   0,  55, 172, 226, 253, 253, 253, 253, 244, 133,  11,\n",
       "           0,   0,   0,   0,   0,   0,   0,   0,   0,   0,   0,   0,   0,   0],\n",
       "        [  0,   0,   0,   0, 136, 253, 253, 253, 212, 135, 132,  16,   0,   0,\n",
       "           0,   0,   0,   0,   0,   0,   0,   0,   0,   0,   0,   0,   0,   0],\n",
       "        [  0,   0,   0,   0,   0,   0,   0,   0,   0,   0,   0,   0,   0,   0,\n",
       "           0,   0,   0,   0,   0,   0,   0,   0,   0,   0,   0,   0,   0,   0],\n",
       "        [  0,   0,   0,   0,   0,   0,   0,   0,   0,   0,   0,   0,   0,   0,\n",
       "           0,   0,   0,   0,   0,   0,   0,   0,   0,   0,   0,   0,   0,   0],\n",
       "        [  0,   0,   0,   0,   0,   0,   0,   0,   0,   0,   0,   0,   0,   0,\n",
       "           0,   0,   0,   0,   0,   0,   0,   0,   0,   0,   0,   0,   0,   0]],\n",
       "       dtype=torch.uint8)"
      ]
     },
     "execution_count": 8,
     "metadata": {},
     "output_type": "execute_result"
    }
   ],
   "execution_count": 8
  },
  {
   "metadata": {
    "ExecuteTime": {
     "end_time": "2025-09-09T13:16:46.421141Z",
     "start_time": "2025-09-09T13:16:46.413227Z"
    }
   },
   "cell_type": "code",
   "source": "type(train_DS.data[0])",
   "id": "15e661668489c1b",
   "outputs": [
    {
     "data": {
      "text/plain": [
       "torch.Tensor"
      ]
     },
     "execution_count": 10,
     "metadata": {},
     "output_type": "execute_result"
    }
   ],
   "execution_count": 10
  },
  {
   "metadata": {
    "ExecuteTime": {
     "end_time": "2025-09-09T13:15:52.698129Z",
     "start_time": "2025-09-09T13:15:52.528307Z"
    }
   },
   "cell_type": "code",
   "source": [
    "plt.imshow(train_DS.data[0],cmap='gray')\n",
    "plt.colorbar()"
   ],
   "id": "4c9736b160d8020e",
   "outputs": [
    {
     "data": {
      "text/plain": [
       "<matplotlib.colorbar.Colorbar at 0x1780e69c0>"
      ]
     },
     "execution_count": 9,
     "metadata": {},
     "output_type": "execute_result"
    },
    {
     "data": {
      "text/plain": [
       "<Figure size 640x480 with 2 Axes>"
      ],
      "image/png": "[encoded data removed]"
     },
     "metadata": {},
     "output_type": "display_data"
    }
   ],
   "execution_count": 9
  },
  {
   "metadata": {
    "ExecuteTime": {
     "end_time": "2025-09-09T13:17:22.029276Z",
     "start_time": "2025-09-09T13:17:22.023317Z"
    }
   },
   "cell_type": "code",
   "source": [
    "print(train_DS.targets) # 정답(라벨)을 볼 수 있음\n",
    "print(train_DS.targets.shape)"
   ],
   "id": "ba8008d031d2197e",
   "outputs": [
    {
     "name": "stdout",
     "output_type": "stream",
     "text": [
      "tensor([5, 0, 4,  ..., 5, 6, 8])\n",
      "torch.Size([60000])\n"
     ]
    }
   ],
   "execution_count": 11
  },
  {
   "metadata": {},
   "cell_type": "markdown",
   "source": "### 데이터 로더",
   "id": "13ff4523a03d004a"
  },
  {
   "metadata": {
    "ExecuteTime": {
     "end_time": "2025-09-09T13:26:36.042619Z",
     "start_time": "2025-09-09T13:26:36.031572Z"
    }
   },
   "cell_type": "code",
   "source": [
    "BATCH_SIZE = 32\n",
    "train_DL = torch.utils.data.DataLoader(train_DS, batch_size=BATCH_SIZE, shuffle=True)\n",
    "test_DL = torch.utils.data.DataLoader(test_DS, batch_size=BATCH_SIZE, shuffle=True)"
   ],
   "id": "81b9b5f4596023cb",
   "outputs": [],
   "execution_count": 12
  },
  {
   "metadata": {
    "ExecuteTime": {
     "end_time": "2025-09-09T13:26:37.189525Z",
     "start_time": "2025-09-09T13:26:37.186276Z"
    }
   },
   "cell_type": "code",
   "source": "train_DL.dataset",
   "id": "8ed2764c4d8a4f4c",
   "outputs": [
    {
     "data": {
      "text/plain": [
       "Dataset MNIST\n",
       "    Number of datapoints: 60000\n",
       "    Root location: ./data\n",
       "    Split: Train\n",
       "    StandardTransform\n",
       "Transform: ToTensor()"
      ]
     },
     "execution_count": 13,
     "metadata": {},
     "output_type": "execute_result"
    }
   ],
   "execution_count": 13
  },
  {
   "metadata": {
    "ExecuteTime": {
     "end_time": "2025-09-09T13:28:45.885595Z",
     "start_time": "2025-09-09T13:28:45.716667Z"
    }
   },
   "cell_type": "code",
   "source": [
    "x_batch, y_batch = next(iter(train_DL))\n",
    "# 데이터 한 묶음 # next(iter(train_DS))\n",
    "# 배치 크기가 32이므로 32장씩 갖고오게 됨\n",
    "\n",
    "# ToTensor 의 역할\n",
    "# 1. Tensor 로 바꾸고\n",
    "# 2. 개체행렬로 바꾸고 -> 갯수 x 채널 x 크기 x 크기 형태로 변환됨\n",
    "# 3. 0~1 사이로 바꾸고 (int -> float)\n",
    "# 이때 데이터를 꺼낼때 적용이 됨\n",
    "\n",
    "print(type(train_DS.data))\n",
    "print(train_DS.data.shape)\n",
    "print(train_DS.data.dtype)\n",
    "print(train_DS.data[0])\n",
    "\n",
    "print(type(x_batch))\n",
    "print(x_batch.shape)\n",
    "print(x_batch.dtype)\n",
    "print(x_batch[0])\n",
    "\n",
    "plt.imshow(x_batch[0].squeeze(), cmap='gray')\n",
    "plt.colorbar()\n",
    "print(y_batch[0])"
   ],
   "id": "fe613c80743735e8",
   "outputs": [
    {
     "name": "stdout",
     "output_type": "stream",
     "text": [
      "<class 'torch.Tensor'>\n",
      "torch.Size([60000, 28, 28])\n",
      "torch.uint8\n",
      "tensor([[  0,   0,   0,   0,   0,   0,   0,   0,   0,   0,   0,   0,   0,   0,\n",
      "           0,   0,   0,   0,   0,   0,   0,   0,   0,   0,   0,   0,   0,   0],\n",
      "        [  0,   0,   0,   0,   0,   0,   0,   0,   0,   0,   0,   0,   0,   0,\n",
      "           0,   0,   0,   0,   0,   0,   0,   0,   0,   0,   0,   0,   0,   0],\n",
      "        [  0,   0,   0,   0,   0,   0,   0,   0,   0,   0,   0,   0,   0,   0,\n",
      "           0,   0,   0,   0,   0,   0,   0,   0,   0,   0,   0,   0,   0,   0],\n",
      "        [  0,   0,   0,   0,   0,   0,   0,   0,   0,   0,   0,   0,   0,   0,\n",
      "           0,   0,   0,   0,   0,   0,   0,   0,   0,   0,   0,   0,   0,   0],\n",
      "        [  0,   0,   0,   0,   0,   0,   0,   0,   0,   0,   0,   0,   0,   0,\n",
      "           0,   0,   0,   0,   0,   0,   0,   0,   0,   0,   0,   0,   0,   0],\n",
      "        [  0,   0,   0,   0,   0,   0,   0,   0,   0,   0,   0,   0,   3,  18,\n",
      "          18,  18, 126, 136, 175,  26, 166, 255, 247, 127,   0,   0,   0,   0],\n",
      "        [  0,   0,   0,   0,   0,   0,   0,   0,  30,  36,  94, 154, 170, 253,\n",
      "         253, 253, 253, 253, 225, 172, 253, 242, 195,  64,   0,   0,   0,   0],\n",
      "        [  0,   0,   0,   0,   0,   0,   0,  49, 238, 253, 253, 253, 253, 253,\n",
      "         253, 253, 253, 251,  93,  82,  82,  56,  39,   0,   0,   0,   0,   0],\n",
      "        [  0,   0,   0,   0,   0,   0,   0,  18, 219, 253, 253, 253, 253, 253,\n",
      "         198, 182, 247, 241,   0,   0,   0,   0,   0,   0,   0,   0,   0,   0],\n",
      "        [  0,   0,   0,   0,   0,   0,   0,   0,  80, 156, 107, 253, 253, 205,\n",
      "          11,   0,  43, 154,   0,   0,   0,   0,   0,   0,   0,   0,   0,   0],\n",
      "        [  0,   0,   0,   0,   0,   0,   0,   0,   0,  14,   1, 154, 253,  90,\n",
      "           0,   0,   0,   0,   0,   0,   0,   0,   0,   0,   0,   0,   0,   0],\n",
      "        [  0,   0,   0,   0,   0,   0,   0,   0,   0,   0,   0, 139, 253, 190,\n",
      "           2,   0,   0,   0,   0,   0,   0,   0,   0,   0,   0,   0,   0,   0],\n",
      "        [  0,   0,   0,   0,   0,   0,   0,   0,   0,   0,   0,  11, 190, 253,\n",
      "          70,   0,   0,   0,   0,   0,   0,   0,   0,   0,   0,   0,   0,   0],\n",
      "        [  0,   0,   0,   0,   0,   0,   0,   0,   0,   0,   0,   0,  35, 241,\n",
      "         225, 160, 108,   1,   0,   0,   0,   0,   0,   0,   0,   0,   0,   0],\n",
      "        [  0,   0,   0,   0,   0,   0,   0,   0,   0,   0,   0,   0,   0,  81,\n",
      "         240, 253, 253, 119,  25,   0,   0,   0,   0,   0,   0,   0,   0,   0],\n",
      "        [  0,   0,   0,   0,   0,   0,   0,   0,   0,   0,   0,   0,   0,   0,\n",
      "          45, 186, 253, 253, 150,  27,   0,   0,   0,   0,   0,   0,   0,   0],\n",
      "        [  0,   0,   0,   0,   0,   0,   0,   0,   0,   0,   0,   0,   0,   0,\n",
      "           0,  16,  93, 252, 253, 187,   0,   0,   0,   0,   0,   0,   0,   0],\n",
      "        [  0,   0,   0,   0,   0,   0,   0,   0,   0,   0,   0,   0,   0,   0,\n",
      "           0,   0,   0, 249, 253, 249,  64,   0,   0,   0,   0,   0,   0,   0],\n",
      "        [  0,   0,   0,   0,   0,   0,   0,   0,   0,   0,   0,   0,   0,   0,\n",
      "          46, 130, 183, 253, 253, 207,   2,   0,   0,   0,   0,   0,   0,   0],\n",
      "        [  0,   0,   0,   0,   0,   0,   0,   0,   0,   0,   0,   0,  39, 148,\n",
      "         229, 253, 253, 253, 250, 182,   0,   0,   0,   0,   0,   0,   0,   0],\n",
      "        [  0,   0,   0,   0,   0,   0,   0,   0,   0,   0,  24, 114, 221, 253,\n",
      "         253, 253, 253, 201,  78,   0,   0,   0,   0,   0,   0,   0,   0,   0],\n",
      "        [  0,   0,   0,   0,   0,   0,   0,   0,  23,  66, 213, 253, 253, 253,\n",
      "         253, 198,  81,   2,   0,   0,   0,   0,   0,   0,   0,   0,   0,   0],\n",
      "        [  0,   0,   0,   0,   0,   0,  18, 171, 219, 253, 253, 253, 253, 195,\n",
      "          80,   9,   0,   0,   0,   0,   0,   0,   0,   0,   0,   0,   0,   0],\n",
      "        [  0,   0,   0,   0,  55, 172, 226, 253, 253, 253, 253, 244, 133,  11,\n",
      "           0,   0,   0,   0,   0,   0,   0,   0,   0,   0,   0,   0,   0,   0],\n",
      "        [  0,   0,   0,   0, 136, 253, 253, 253, 212, 135, 132,  16,   0,   0,\n",
      "           0,   0,   0,   0,   0,   0,   0,   0,   0,   0,   0,   0,   0,   0],\n",
      "        [  0,   0,   0,   0,   0,   0,   0,   0,   0,   0,   0,   0,   0,   0,\n",
      "           0,   0,   0,   0,   0,   0,   0,   0,   0,   0,   0,   0,   0,   0],\n",
      "        [  0,   0,   0,   0,   0,   0,   0,   0,   0,   0,   0,   0,   0,   0,\n",
      "           0,   0,   0,   0,   0,   0,   0,   0,   0,   0,   0,   0,   0,   0],\n",
      "        [  0,   0,   0,   0,   0,   0,   0,   0,   0,   0,   0,   0,   0,   0,\n",
      "           0,   0,   0,   0,   0,   0,   0,   0,   0,   0,   0,   0,   0,   0]],\n",
      "       dtype=torch.uint8)\n",
      "<class 'torch.Tensor'>\n",
      "torch.Size([32, 1, 28, 28])\n",
      "torch.float32\n",
      "tensor([[[0.0000, 0.0000, 0.0000, 0.0000, 0.0000, 0.0000, 0.0000, 0.0000,\n",
      "          0.0000, 0.0000, 0.0000, 0.0000, 0.0000, 0.0000, 0.0000, 0.0000,\n",
      "          0.0000, 0.0000, 0.0000, 0.0000, 0.0000, 0.0000, 0.0000, 0.0000,\n",
      "          0.0000, 0.0000, 0.0000, 0.0000],\n",
      "         [0.0000, 0.0000, 0.0000, 0.0000, 0.0000, 0.0000, 0.0000, 0.0000,\n",
      "          0.0000, 0.0000, 0.0000, 0.0000, 0.0000, 0.0000, 0.0000, 0.0000,\n",
      "          0.0000, 0.0000, 0.0000, 0.0000, 0.0000, 0.0000, 0.0000, 0.0000,\n",
      "          0.0000, 0.0000, 0.0000, 0.0000],\n",
      "         [0.0000, 0.0000, 0.0000, 0.0000, 0.0000, 0.0000, 0.0000, 0.0000,\n",
      "          0.0000, 0.0000, 0.0000, 0.0000, 0.0000, 0.0000, 0.0000, 0.0000,\n",
      "          0.0000, 0.0000, 0.0000, 0.0000, 0.0000, 0.0000, 0.0000, 0.0000,\n",
      "          0.0000, 0.0000, 0.0000, 0.0000],\n",
      "         [0.0000, 0.0000, 0.0000, 0.0000, 0.0000, 0.0000, 0.0000, 0.0000,\n",
      "          0.0000, 0.0000, 0.0000, 0.0000, 0.0000, 0.0000, 0.0000, 0.0000,\n",
      "          0.0000, 0.0000, 0.0000, 0.0000, 0.0000, 0.0000, 0.0000, 0.0000,\n",
      "          0.0000, 0.0000, 0.0000, 0.0000],\n",
      "         [0.0000, 0.0000, 0.0000, 0.0000, 0.0000, 0.0000, 0.0000, 0.0000,\n",
      "          0.0000, 0.0000, 0.0000, 0.0000, 0.0000, 0.0000, 0.0000, 0.0000,\n",
      "          0.0000, 0.0000, 0.0000, 0.0000, 0.0000, 0.0000, 0.0000, 0.0000,\n",
      "          0.0000, 0.0000, 0.0000, 0.0000],\n",
      "         [0.0000, 0.0000, 0.0000, 0.0000, 0.0000, 0.0000, 0.0000, 0.0000,\n",
      "          0.0000, 0.0000, 0.0000, 0.0000, 0.0000, 0.0000, 0.0000, 0.0000,\n",
      "          0.0000, 0.0000, 0.0000, 0.5961, 0.9255, 0.0902, 0.0000, 0.0000,\n",
      "          0.0000, 0.0000, 0.0000, 0.0000],\n",
      "         [0.0000, 0.0000, 0.0000, 0.0000, 0.0000, 0.0000, 0.0000, 0.0000,\n",
      "          0.0000, 0.0000, 0.0000, 0.0000, 0.0000, 0.0000, 0.0000, 0.0000,\n",
      "          0.0000, 0.0000, 0.0784, 0.9725, 0.7843, 0.0588, 0.0000, 0.0000,\n",
      "          0.0000, 0.0000, 0.0000, 0.0000],\n",
      "         [0.0000, 0.0000, 0.0000, 0.0000, 0.0000, 0.0000, 0.0000, 0.0000,\n",
      "          0.0000, 0.0000, 0.0000, 0.0000, 0.0000, 0.0000, 0.0000, 0.0000,\n",
      "          0.0000, 0.0039, 0.5725, 1.0000, 0.1216, 0.0000, 0.0000, 0.0000,\n",
      "          0.0000, 0.0000, 0.0000, 0.0000],\n",
      "         [0.0000, 0.0000, 0.0000, 0.0000, 0.0000, 0.0000, 0.0000, 0.0000,\n",
      "          0.0000, 0.0000, 0.0000, 0.0000, 0.0000, 0.0000, 0.0000, 0.0000,\n",
      "          0.0000, 0.0196, 0.9961, 0.8667, 0.0431, 0.0000, 0.0000, 0.0000,\n",
      "          0.0000, 0.0000, 0.0000, 0.0000],\n",
      "         [0.0000, 0.0000, 0.0000, 0.0000, 0.0000, 0.0000, 0.0000, 0.0000,\n",
      "          0.0000, 0.0000, 0.0000, 0.0000, 0.0000, 0.0000, 0.0000, 0.0000,\n",
      "          0.0000, 0.3294, 0.9961, 0.5490, 0.0000, 0.0000, 0.0000, 0.0000,\n",
      "          0.0000, 0.0000, 0.0000, 0.0000],\n",
      "         [0.0000, 0.0000, 0.0000, 0.0000, 0.0000, 0.0000, 0.0000, 0.0000,\n",
      "          0.0000, 0.0000, 0.0000, 0.0000, 0.0000, 0.0000, 0.0000, 0.0000,\n",
      "          0.0667, 0.9255, 0.9882, 0.0314, 0.0000, 0.0000, 0.0000, 0.0000,\n",
      "          0.0000, 0.0000, 0.0000, 0.0000],\n",
      "         [0.0000, 0.0000, 0.0000, 0.0000, 0.0000, 0.0000, 0.0000, 0.0000,\n",
      "          0.0000, 0.0000, 0.0000, 0.0000, 0.0000, 0.0000, 0.0000, 0.0000,\n",
      "          0.5373, 0.9922, 0.3333, 0.0000, 0.0000, 0.0000, 0.0000, 0.0000,\n",
      "          0.0000, 0.0000, 0.0000, 0.0000],\n",
      "         [0.0000, 0.0000, 0.0000, 0.0000, 0.0000, 0.0000, 0.0000, 0.0000,\n",
      "          0.0000, 0.0000, 0.0000, 0.0000, 0.0000, 0.0000, 0.0000, 0.2235,\n",
      "          0.9961, 0.8824, 0.0000, 0.0000, 0.0000, 0.0000, 0.0000, 0.0000,\n",
      "          0.0000, 0.0000, 0.0000, 0.0000],\n",
      "         [0.0000, 0.0000, 0.0000, 0.0000, 0.0000, 0.0000, 0.0000, 0.0000,\n",
      "          0.0000, 0.0000, 0.0000, 0.0000, 0.0000, 0.0000, 0.1059, 0.9020,\n",
      "          0.9569, 0.1412, 0.0000, 0.0000, 0.0000, 0.0000, 0.0000, 0.0000,\n",
      "          0.0000, 0.0000, 0.0000, 0.0000],\n",
      "         [0.0000, 0.0000, 0.0000, 0.0000, 0.0000, 0.0000, 0.0000, 0.0000,\n",
      "          0.0000, 0.0000, 0.0000, 0.0000, 0.0000, 0.0000, 0.5451, 0.9333,\n",
      "          0.1922, 0.0000, 0.0000, 0.0000, 0.0000, 0.0000, 0.0000, 0.0000,\n",
      "          0.0000, 0.0000, 0.0000, 0.0000],\n",
      "         [0.0000, 0.0000, 0.0000, 0.0000, 0.0000, 0.0000, 0.0000, 0.0000,\n",
      "          0.0000, 0.0000, 0.0000, 0.0000, 0.0000, 0.2353, 0.9765, 0.7059,\n",
      "          0.0000, 0.0000, 0.0000, 0.0000, 0.0000, 0.0000, 0.0000, 0.0000,\n",
      "          0.0000, 0.0000, 0.0000, 0.0000],\n",
      "         [0.0000, 0.0000, 0.0000, 0.0000, 0.0000, 0.0000, 0.0000, 0.0000,\n",
      "          0.0000, 0.0000, 0.0000, 0.0000, 0.1451, 0.8784, 0.9255, 0.1804,\n",
      "          0.0000, 0.0000, 0.0000, 0.0000, 0.0000, 0.0000, 0.0000, 0.0000,\n",
      "          0.0000, 0.0000, 0.0000, 0.0000],\n",
      "         [0.0000, 0.0000, 0.0000, 0.0000, 0.0000, 0.0000, 0.0000, 0.0000,\n",
      "          0.0000, 0.0000, 0.0000, 0.0078, 0.7608, 0.9137, 0.3961, 0.0000,\n",
      "          0.0000, 0.0000, 0.0000, 0.0000, 0.0000, 0.0000, 0.0000, 0.0000,\n",
      "          0.0000, 0.0000, 0.0000, 0.0000],\n",
      "         [0.0000, 0.0000, 0.0000, 0.0000, 0.0000, 0.0000, 0.0000, 0.0000,\n",
      "          0.0000, 0.0000, 0.0118, 0.6667, 0.9961, 0.5451, 0.0000, 0.0000,\n",
      "          0.0000, 0.0000, 0.0000, 0.0000, 0.0000, 0.0000, 0.0000, 0.0000,\n",
      "          0.0000, 0.0000, 0.0000, 0.0000],\n",
      "         [0.0000, 0.0000, 0.0000, 0.0000, 0.0000, 0.0000, 0.0000, 0.0000,\n",
      "          0.0000, 0.0000, 0.4706, 0.9961, 0.6314, 0.0039, 0.0000, 0.0000,\n",
      "          0.0000, 0.0000, 0.0000, 0.0000, 0.0000, 0.0000, 0.0000, 0.0000,\n",
      "          0.0000, 0.0000, 0.0000, 0.0000],\n",
      "         [0.0000, 0.0000, 0.0000, 0.0000, 0.0000, 0.0000, 0.0000, 0.0000,\n",
      "          0.0000, 0.2824, 0.9765, 0.7333, 0.0392, 0.0000, 0.0000, 0.0000,\n",
      "          0.0000, 0.0000, 0.0000, 0.0000, 0.0000, 0.0000, 0.0000, 0.0000,\n",
      "          0.0000, 0.0000, 0.0000, 0.0000],\n",
      "         [0.0000, 0.0000, 0.0000, 0.0000, 0.0000, 0.0000, 0.0000, 0.0000,\n",
      "          0.1294, 0.8471, 0.7882, 0.0431, 0.0000, 0.0000, 0.0000, 0.0000,\n",
      "          0.0000, 0.0000, 0.0000, 0.0000, 0.0000, 0.0000, 0.0000, 0.0000,\n",
      "          0.0000, 0.0000, 0.0000, 0.0000],\n",
      "         [0.0000, 0.0000, 0.0000, 0.0000, 0.0000, 0.0000, 0.0000, 0.0000,\n",
      "          0.4941, 0.9882, 0.4275, 0.0000, 0.0000, 0.0000, 0.0000, 0.0000,\n",
      "          0.0000, 0.0000, 0.0000, 0.0000, 0.0000, 0.0000, 0.0000, 0.0000,\n",
      "          0.0000, 0.0000, 0.0000, 0.0000],\n",
      "         [0.0000, 0.0000, 0.0000, 0.0000, 0.0000, 0.0000, 0.0000, 0.0000,\n",
      "          0.4941, 0.7843, 0.0000, 0.0000, 0.0000, 0.0000, 0.0000, 0.0000,\n",
      "          0.0000, 0.0000, 0.0000, 0.0000, 0.0000, 0.0000, 0.0000, 0.0000,\n",
      "          0.0000, 0.0000, 0.0000, 0.0000],\n",
      "         [0.0000, 0.0000, 0.0000, 0.0000, 0.0000, 0.0000, 0.0000, 0.0000,\n",
      "          0.4941, 0.8157, 0.0941, 0.0000, 0.0000, 0.0000, 0.0000, 0.0000,\n",
      "          0.0000, 0.0000, 0.0000, 0.0000, 0.0000, 0.0000, 0.0000, 0.0000,\n",
      "          0.0000, 0.0000, 0.0000, 0.0000],\n",
      "         [0.0000, 0.0000, 0.0000, 0.0000, 0.0000, 0.0000, 0.0000, 0.0000,\n",
      "          0.0000, 0.0000, 0.0000, 0.0000, 0.0000, 0.0000, 0.0000, 0.0000,\n",
      "          0.0000, 0.0000, 0.0000, 0.0000, 0.0000, 0.0000, 0.0000, 0.0000,\n",
      "          0.0000, 0.0000, 0.0000, 0.0000],\n",
      "         [0.0000, 0.0000, 0.0000, 0.0000, 0.0000, 0.0000, 0.0000, 0.0000,\n",
      "          0.0000, 0.0000, 0.0000, 0.0000, 0.0000, 0.0000, 0.0000, 0.0000,\n",
      "          0.0000, 0.0000, 0.0000, 0.0000, 0.0000, 0.0000, 0.0000, 0.0000,\n",
      "          0.0000, 0.0000, 0.0000, 0.0000],\n",
      "         [0.0000, 0.0000, 0.0000, 0.0000, 0.0000, 0.0000, 0.0000, 0.0000,\n",
      "          0.0000, 0.0000, 0.0000, 0.0000, 0.0000, 0.0000, 0.0000, 0.0000,\n",
      "          0.0000, 0.0000, 0.0000, 0.0000, 0.0000, 0.0000, 0.0000, 0.0000,\n",
      "          0.0000, 0.0000, 0.0000, 0.0000]]])\n",
      "tensor(1)\n"
     ]
    },
    {
     "data": {
      "text/plain": [
       "<Figure size 640x480 with 2 Axes>"
      ],
      "image/png": "[encoded data removed]"
     },
     "metadata": {},
     "output_type": "display_data"
    }
   ],
   "execution_count": 14
  },
  {
   "metadata": {
    "ExecuteTime": {
     "end_time": "2025-09-09T14:03:20.616910Z",
     "start_time": "2025-09-09T14:03:20.603483Z"
    }
   },
   "cell_type": "code",
   "source": [
    "# 모델 정의\n",
    "from torch import nn\n",
    "\n",
    "class MLP(nn.Module):\n",
    "    def __init__(self):\n",
    "        super().__init__()\n",
    "        self.fcs = nn.Sequential(nn.Linear(28*28, 100),\n",
    "                                 nn.ReLU(),\n",
    "                                 nn.Linear(100, 10))\n",
    "    def forward(self, x):\n",
    "        x = torch.flatten(x, start_dim=1)\n",
    "        # (32,1,28,28)에서 1차원부터 쭉 펴는것\n",
    "        x = self.fcs(x)\n",
    "        return x"
   ],
   "id": "b1515801ad6e0eb5",
   "outputs": [],
   "execution_count": 15
  },
  {
   "metadata": {
    "ExecuteTime": {
     "end_time": "2025-09-09T14:20:58.678643Z",
     "start_time": "2025-09-09T14:20:58.648588Z"
    }
   },
   "cell_type": "code",
   "source": [
    "# flatten 확인\n",
    "x_batch, _ = next(iter(train_DL))\n",
    "print(x_batch.shape)\n",
    "flat_images = torch.flatten(x_batch)\n",
    "print(flat_images.shape)\n",
    "flat_images2 = torch.flatten(x_batch, start_dim=1)\n",
    "print(flat_images2.shape)"
   ],
   "id": "f5e6c669d5b8fe17",
   "outputs": [
    {
     "name": "stdout",
     "output_type": "stream",
     "text": [
      "torch.Size([32, 1, 28, 28])\n",
      "torch.Size([25088])\n",
      "torch.Size([32, 784])\n"
     ]
    }
   ],
   "execution_count": 16
  },
  {
   "metadata": {
    "ExecuteTime": {
     "end_time": "2025-09-09T14:21:14.825392Z",
     "start_time": "2025-09-09T14:21:14.804253Z"
    }
   },
   "cell_type": "code",
   "source": [
    "model = MLP().to(DEVICE)\n",
    "print(model)\n",
    "x_batch, _ = next(iter(train_DL))\n",
    "print(model(x_batch.to(DEVICE)).shape)"
   ],
   "id": "15a62d3828faaf68",
   "outputs": [
    {
     "name": "stdout",
     "output_type": "stream",
     "text": [
      "MLP(\n",
      "  (fcs): Sequential(\n",
      "    (0): Linear(in_features=784, out_features=100, bias=True)\n",
      "    (1): ReLU()\n",
      "    (2): Linear(in_features=100, out_features=10, bias=True)\n",
      "  )\n",
      ")\n",
      "torch.Size([32, 10])\n"
     ]
    }
   ],
   "execution_count": 17
  },
  {
   "metadata": {
    "ExecuteTime": {
     "end_time": "2025-09-09T14:25:20.310981Z",
     "start_time": "2025-09-09T14:25:20.297544Z"
    }
   },
   "cell_type": "code",
   "source": [
    "from torch import optim\n",
    "\n",
    "LR = 1e-3\n",
    "EPOCH = 5\n",
    "criterion = nn.CrossEntropyLoss()\n",
    "optimizer = optim.Adam(model.parameters(), lr=LR)\n",
    "\n",
    "def Train(model, train_DL, criterion, optimizer, EPOCH):\n",
    "\n",
    "    loss_history = []\n",
    "    NoT = len(train_DL.dataset) # The number of training data\n",
    "\n",
    "    model.train() # train mode로 전환\n",
    "    for ep in range(EPOCH):\n",
    "        rloss = 0 # running loss\n",
    "        for x_batch, y_batch in train_DL:\n",
    "            x_batch = x_batch.to(DEVICE)\n",
    "            y_batch = y_batch.to(DEVICE)\n",
    "            # inference\n",
    "            y_hat = model(x_batch)\n",
    "            # loss\n",
    "            loss = criterion(y_hat, y_batch)\n",
    "            # update\n",
    "            optimizer.zero_grad() # gradient 누적을 막기 위한 초기화\n",
    "            loss.backward() # backpropagation\n",
    "            optimizer.step() # weight update\n",
    "            # loss accumulation\n",
    "            loss_b = loss.item() * x_batch.shape[0]\n",
    "            # batch의 크기에 따라 곱해주는 것, 배치크기가 마지막에 다르게 들어올수 있으니\n",
    "            rloss += loss_b # running loss\n",
    "\n",
    "        # print loss\n",
    "        loss_e = rloss/NoT # epoch loss\n",
    "        loss_history += [loss_e]\n",
    "        print(f\"Epoch: {ep+1}, train loss: {loss_e:.3f}\")\n",
    "        print(\"--\"*20)\n",
    "\n",
    "    return loss_history"
   ],
   "id": "42567073f0dae5d2",
   "outputs": [],
   "execution_count": 18
  },
  {
   "metadata": {
    "ExecuteTime": {
     "end_time": "2025-09-09T15:24:01.273278Z",
     "start_time": "2025-09-09T15:23:43.205011Z"
    }
   },
   "cell_type": "code",
   "source": "loss_history=Train(model, train_DL, criterion, optimizer, EPOCH)",
   "id": "257f4a98b055fd72",
   "outputs": [
    {
     "name": "stdout",
     "output_type": "stream",
     "text": [
      "Epoch: 1, train loss: 0.047\n",
      "----------------------------------------\n",
      "Epoch: 2, train loss: 0.040\n",
      "----------------------------------------\n",
      "Epoch: 3, train loss: 0.032\n",
      "----------------------------------------\n",
      "Epoch: 4, train loss: 0.027\n",
      "----------------------------------------\n",
      "Epoch: 5, train loss: 0.022\n",
      "----------------------------------------\n"
     ]
    }
   ],
   "execution_count": 27
  },
  {
   "metadata": {},
   "cell_type": "markdown",
   "source": [
    "### 주의할점\n",
    "CrossEntropyLoss를 사용할때는 모델 마지막에 Softmax를 쓰면 안된다.\n",
    "nn.CrossEntropyLoss를 구현할때 파이토치에서 그렇게 구현을 해놓음"
   ],
   "id": "a5e5bb91c30b3465"
  },
  {
   "metadata": {
    "ExecuteTime": {
     "end_time": "2025-09-09T15:22:05.745757Z",
     "start_time": "2025-09-09T15:22:05.739307Z"
    }
   },
   "cell_type": "code",
   "source": [
    "# cross entropy 구하는 여러가지 방법\n",
    "import torch.nn.functional as F\n",
    "\n",
    "y_hat = torch.randn(3, 5) # data는 세 개, 5 종류로 분류하는 문제 가정\n",
    "print(y_hat) # 가로 축으로 합이 1이 아님, 즉, softmax 등과 전\n",
    "y_batch = torch.randint(5, (3,))\n",
    "print(y_batch)\n",
    "\n",
    "# 방법 1\n",
    "loss = F.cross_entropy(y_hat, y_batch) # softmax가 내장\n",
    "print(loss)\n",
    "\n",
    "# 방법 2\n",
    "criterion = nn.CrossEntropyLoss() # softmax가 내장\n",
    "print(criterion(y_hat, y_batch))\n",
    "\n",
    "# 방법 3\n",
    "soft = nn.Softmax(dim=1)\n",
    "y_hat_soft = soft(y_hat)\n",
    "print(y_hat_soft)\n",
    "loss = 0\n",
    "for i, val in enumerate(y_hat_soft):\n",
    "    print(i,val)\n",
    "    loss += -torch.log(val[y_batch[i]])\n",
    "print(loss/3) # 평균이 내장되어있음을 알 수 있다"
   ],
   "id": "81b97d652ba644be",
   "outputs": [
    {
     "name": "stdout",
     "output_type": "stream",
     "text": [
      "tensor([[ 1.0529,  2.4880, -0.2182, -0.9767, -1.1292],\n",
      "        [-1.8999,  0.9779, -1.2299,  1.6144,  0.6783],\n",
      "        [-0.9172, -0.0781, -2.5660, -0.0542,  0.0377]])\n",
      "tensor([3, 2, 4])\n",
      "tensor(2.8329)\n",
      "tensor(2.8329)\n",
      "tensor([[0.1747, 0.7337, 0.0490, 0.0230, 0.0197],\n",
      "        [0.0148, 0.2633, 0.0290, 0.4977, 0.1952],\n",
      "        [0.1180, 0.2731, 0.0227, 0.2797, 0.3066]])\n",
      "0 tensor([0.1747, 0.7337, 0.0490, 0.0230, 0.0197])\n",
      "1 tensor([0.0148, 0.2633, 0.0290, 0.4977, 0.1952])\n",
      "2 tensor([0.1180, 0.2731, 0.0227, 0.2797, 0.3066])\n",
      "tensor(2.8329)\n"
     ]
    }
   ],
   "execution_count": 25
  },
  {
   "metadata": {
    "ExecuteTime": {
     "end_time": "2025-09-09T15:24:01.377233Z",
     "start_time": "2025-09-09T15:24:01.291488Z"
    }
   },
   "cell_type": "code",
   "source": [
    "plt.plot(range(1,EPOCH+1), loss_history)\n",
    "plt.xlabel(\"Epoch\")\n",
    "plt.ylabel(\"loss\")\n",
    "plt.title(\"Train Loss\")\n",
    "plt.grid()"
   ],
   "id": "32f472adf776e33d",
   "outputs": [
    {
     "data": {
      "text/plain": [
       "<Figure size 640x480 with 1 Axes>"
      ],
      "image/png": "[encoded data removed]"
     },
     "metadata": {},
     "output_type": "display_data"
    }
   ],
   "execution_count": 28
  },
  {
   "metadata": {},
   "cell_type": "markdown",
   "source": "### 모델 저장하고 불러오기",
   "id": "d7946e0d3ba7ed1e"
  },
  {
   "metadata": {
    "ExecuteTime": {
     "end_time": "2025-09-09T15:28:07.490219Z",
     "start_time": "2025-09-09T15:28:07.474174Z"
    }
   },
   "cell_type": "code",
   "source": [
    "# save dict 저장하기 # 이게 권장\n",
    "save_model_path = './mlp.pt'\n",
    "torch.save(model.state_dict(), save_model_path)"
   ],
   "id": "f99667782c5cdd51",
   "outputs": [],
   "execution_count": 29
  },
  {
   "metadata": {
    "ExecuteTime": {
     "end_time": "2025-09-09T15:29:58.243855Z",
     "start_time": "2025-09-09T15:29:58.235757Z"
    }
   },
   "cell_type": "code",
   "source": [
    "# 불러오기\n",
    "load_model = MLP().to(DEVICE)\n",
    "load_model.load_state_dict(torch.load(save_model_path,map_location = DEVICE))"
   ],
   "id": "f9f1d8b77a1a9388",
   "outputs": [
    {
     "data": {
      "text/plain": [
       "<All keys matched successfully>"
      ]
     },
     "execution_count": 33,
     "metadata": {},
     "output_type": "execute_result"
    }
   ],
   "execution_count": 33
  },
  {
   "metadata": {},
   "cell_type": "code",
   "outputs": [],
   "execution_count": null,
   "source": [
    "# 전체 저장하는법\n",
    "save_path = 'entire_model.pt'\n",
    "torch.save(model, save_path)\n",
    "\n",
    "# 불러오기\n",
    "load_model = torch.load(save_path)\n",
    "load_model.eval() # 추론 모드로 됨환"
   ],
   "id": "a12a2752c4a50c87"
  },
  {
   "metadata": {
    "ExecuteTime": {
     "end_time": "2025-09-09T15:37:15.351003Z",
     "start_time": "2025-09-09T15:37:15.304445Z"
    }
   },
   "cell_type": "code",
   "source": "model.state_dict()",
   "id": "e8a22a957cedb598",
   "outputs": [
    {
     "data": {
      "text/plain": [
       "OrderedDict([('fcs.0.weight',\n",
       "              tensor([[-0.0320,  0.0016, -0.0231,  ..., -0.0188, -0.0016, -0.0212],\n",
       "                      [ 0.0107,  0.0033, -0.0174,  ..., -0.0039,  0.0153, -0.0031],\n",
       "                      [ 0.0150,  0.0245,  0.0027,  ...,  0.0350,  0.0315,  0.0173],\n",
       "                      ...,\n",
       "                      [ 0.0193, -0.0312,  0.0104,  ..., -0.0017,  0.0045, -0.0269],\n",
       "                      [-0.0046, -0.0034,  0.0237,  ..., -0.0071,  0.0256, -0.0089],\n",
       "                      [ 0.0124,  0.0139, -0.0342,  ..., -0.0061,  0.0143,  0.0279]])),\n",
       "             ('fcs.0.bias',\n",
       "              tensor([-0.0561,  0.0068,  0.1213, -0.0115,  0.1859,  0.3568, -0.1046, -0.1507,\n",
       "                       0.3237, -0.1524,  0.0340,  0.2572,  0.2218, -0.0915,  0.0822,  0.1057,\n",
       "                      -0.1798, -0.2713,  0.0109,  0.0542, -0.0153, -0.1451,  0.0080,  0.1232,\n",
       "                       0.0355,  0.1032,  0.0797,  0.0126, -0.0999, -0.1013,  0.1990,  0.0958,\n",
       "                      -0.0595,  0.0476,  0.1258, -0.2168, -0.1295, -0.1472, -0.0257,  0.2421,\n",
       "                       0.0072,  0.0802, -0.1254, -0.0895, -0.0831,  0.3291,  0.4210,  0.1388,\n",
       "                       0.0414, -0.0606, -0.0525,  0.1004, -0.2519, -0.0295,  0.1452,  0.0990,\n",
       "                      -0.1395, -0.1136,  0.1737,  0.0492, -0.2139, -0.0311,  0.2140,  0.0213,\n",
       "                      -0.1252,  0.0013,  0.1284, -0.4043,  0.0689, -0.0251,  0.0093,  0.0028,\n",
       "                      -0.1378,  0.2531, -0.0201, -0.1076,  0.1716, -0.1083,  0.0242,  0.1156,\n",
       "                       0.1727,  0.1264,  0.0304, -0.0692,  0.2815, -0.1269, -0.2034, -0.0348,\n",
       "                       0.2041,  0.0218, -0.1611, -0.0526,  0.1647, -0.1538,  0.3167, -0.0256,\n",
       "                       0.1747, -0.0153,  0.1300,  0.0321])),\n",
       "             ('fcs.2.weight',\n",
       "              tensor([[-2.0762e-01, -2.5211e-01, -3.3902e-01, -3.7088e-01, -1.9452e-01,\n",
       "                        1.9624e-02, -3.7038e-02,  5.5991e-02, -4.7873e-01, -2.9945e-01,\n",
       "                       -1.6708e-01, -4.7127e-01, -5.7059e-01, -9.5577e-01,  7.6767e-02,\n",
       "                       -3.2518e-02, -4.6360e-01,  1.2600e-01,  9.9343e-02, -9.5795e-01,\n",
       "                       -6.4775e-01, -2.6079e-01,  2.9038e-01,  3.3158e-01,  8.9236e-02,\n",
       "                       -3.5330e-01, -5.9477e-01,  1.0233e-01,  2.4132e-01, -6.4137e-01,\n",
       "                       -1.8222e-01, -6.7559e-01,  6.1025e-02, -1.5458e-01,  8.4883e-02,\n",
       "                        4.5363e-02,  2.1574e-01,  1.5652e-01,  1.9540e-01,  1.7474e-01,\n",
       "                       -5.0078e-02,  1.6081e-01, -3.2680e-01,  1.3840e-01,  1.6327e-01,\n",
       "                       -3.1434e-02, -1.0373e-02,  4.6392e-03,  4.8817e-02,  1.2609e-01,\n",
       "                       -2.4266e-01,  2.5273e-01, -5.9885e-01,  6.0011e-02, -2.4068e-02,\n",
       "                        2.8819e-01,  3.2461e-01,  3.2354e-01,  1.5870e-01, -5.2900e-01,\n",
       "                        5.6690e-01, -1.0531e-01,  3.4603e-01,  1.3995e-01, -3.5528e-01,\n",
       "                       -5.5647e-01,  1.3897e-01,  1.3744e-01, -2.3568e-01, -4.0174e-01,\n",
       "                        3.1205e-02, -7.2218e-02,  1.4845e-01, -5.9118e-01,  1.0446e-01,\n",
       "                       -7.9222e-02, -3.1253e-01,  3.4734e-01, -3.1473e-01,  8.4333e-02,\n",
       "                        9.6341e-02, -2.1606e-01,  1.3677e-01, -9.7565e-03, -2.3410e-01,\n",
       "                        2.7181e-01,  1.6855e-01, -4.0512e-01, -6.7153e-01,  1.0136e-01,\n",
       "                        2.7038e-01, -9.0431e-01,  1.6413e-01,  2.8257e-02,  1.8599e-01,\n",
       "                       -7.5933e-02, -2.4762e-01, -2.5567e-01, -4.7201e-01, -3.5238e-01],\n",
       "                      [ 1.6208e-01,  1.6373e-01,  4.8443e-01,  2.2864e-01,  5.3771e-02,\n",
       "                        1.7089e-01, -1.1115e-01, -2.3145e-01,  1.6872e-01,  1.3459e-01,\n",
       "                        2.6679e-01, -6.0582e-01,  5.4540e-01, -4.3975e-01,  5.0824e-01,\n",
       "                       -8.7025e-01,  1.9267e-01, -4.7689e-01, -2.1119e-01,  1.3865e-01,\n",
       "                        3.4407e-01, -7.2398e-02, -1.0246e-01,  1.5467e-02, -4.9305e-01,\n",
       "                        3.3860e-01, -3.9402e-01,  8.6667e-02, -1.0531e-01,  2.2090e-01,\n",
       "                        4.9691e-01, -1.7689e-01, -6.3309e-01, -5.7542e-01, -4.4977e-01,\n",
       "                        9.2354e-02, -3.8682e-01, -3.2753e-01, -7.4348e-01, -4.4661e-01,\n",
       "                        4.6195e-02, -5.0061e-01, -2.3107e-01, -3.4179e-02, -6.9290e-01,\n",
       "                        5.2553e-03,  1.2046e-01,  8.7335e-02,  3.0636e-01, -6.4643e-01,\n",
       "                        1.2091e-01,  4.8361e-01,  1.1083e-01, -6.8923e-01,  7.1846e-02,\n",
       "                        3.9292e-01,  5.4339e-02,  8.7253e-02,  2.3976e-01,  3.2396e-02,\n",
       "                       -2.7382e-01,  7.5588e-02,  4.8255e-01, -6.5059e-01, -2.5976e-01,\n",
       "                        3.5813e-02, -7.6252e-01,  1.1377e-01, -1.2300e-02, -2.7558e-01,\n",
       "                        1.0105e-01,  1.4765e-02, -2.8849e-01,  2.1936e-01, -1.4160e-01,\n",
       "                        9.8650e-02,  2.0123e-01, -6.4372e-02, -1.5515e-01,  5.2065e-02,\n",
       "                       -4.5865e-01, -3.4033e-01,  3.6769e-01, -8.3736e-02,  2.6054e-01,\n",
       "                       -3.4728e-02, -1.3375e-01,  9.1268e-02,  1.3262e-01,  3.0859e-02,\n",
       "                       -1.8111e-01,  1.5549e-01, -2.7439e-01, -2.0819e-01, -5.6500e-01,\n",
       "                       -1.5167e-03,  5.4095e-02, -3.1470e-01, -5.1890e-01,  2.1557e-01],\n",
       "                      [ 5.0114e-01,  8.0340e-02, -3.9375e-01,  1.4035e-01, -1.0145e-01,\n",
       "                       -9.2567e-02,  3.9621e-01, -1.4103e-01, -6.4485e-01, -8.9011e-02,\n",
       "                       -4.9081e-01, -1.0759e-01,  2.9034e-02, -7.5529e-02,  2.4264e-01,\n",
       "                       -1.2779e-01,  2.3541e-01,  2.4308e-02,  7.0315e-02, -6.5293e-01,\n",
       "                       -3.5255e-01,  4.4291e-01,  2.7427e-01, -1.3037e-02,  4.8064e-02,\n",
       "                        5.6416e-02, -1.1857e-02,  7.9701e-02,  1.4138e-01,  1.8216e-02,\n",
       "                        1.8212e-01, -1.2397e-03, -9.6775e-03, -3.0435e-01, -3.7763e-01,\n",
       "                        2.0113e-01,  1.3198e-01,  1.7838e-01, -3.4472e-01, -4.7588e-01,\n",
       "                        7.1406e-02,  3.1431e-02,  1.9064e-03,  8.1232e-02,  1.9425e-01,\n",
       "                       -1.0413e+00, -2.1826e-01,  1.9200e-01,  1.6367e-01,  5.1863e-02,\n",
       "                       -4.3970e-01, -4.1113e-01,  1.4092e-01, -6.4107e-02,  1.3103e-01,\n",
       "                       -4.4639e-01, -1.1543e-01,  2.0257e-01,  1.6757e-01, -3.6787e-01,\n",
       "                        1.7839e-01, -1.7546e-02,  2.8815e-01,  1.4476e-02, -5.0866e-02,\n",
       "                        2.8283e-01,  4.1313e-01,  9.3107e-02, -2.0631e-01, -7.7008e-01,\n",
       "                        3.6355e-01,  7.4010e-02, -2.4395e-01,  1.5106e-01, -8.4713e-02,\n",
       "                       -1.5672e-01, -6.2615e-01, -3.4210e-01,  3.6044e-01,  1.6235e-01,\n",
       "                        3.4177e-01,  1.3417e-01, -2.2978e-01,  1.0262e-01, -5.8246e-02,\n",
       "                        1.8723e-01, -1.0499e-01, -3.2827e-01, -4.2391e-01,  2.8368e-01,\n",
       "                        1.4112e-01,  4.3028e-01,  1.6732e-02, -1.8499e-01,  6.5274e-01,\n",
       "                       -7.3899e-02,  2.9314e-01, -3.1106e-01,  9.3583e-02,  1.1817e-01],\n",
       "                      [-5.7464e-01, -1.1382e-01, -5.0643e-01,  6.4730e-02, -6.9263e-01,\n",
       "                       -4.7451e-01,  5.2427e-02,  8.0841e-02, -3.8873e-01, -6.6797e-03,\n",
       "                       -1.6986e-01,  1.4343e-02, -5.7010e-01,  3.7413e-01, -4.2836e-01,\n",
       "                       -3.9934e-01,  1.3076e-01,  2.1381e-01,  5.6653e-02,  4.7640e-01,\n",
       "                        9.6031e-02,  4.5002e-01,  1.1306e-01, -3.3164e-02,  1.2864e-02,\n",
       "                        1.1542e-01, -3.9798e-02, -2.7494e-02,  2.4186e-02,  4.3770e-01,\n",
       "                        1.0514e-01,  1.3501e-01, -1.0666e-01,  2.2245e-02,  5.6585e-02,\n",
       "                       -4.5232e-02,  3.5884e-01, -7.4041e-03,  2.3758e-01, -6.6517e-01,\n",
       "                        5.2620e-02, -1.9732e-01,  2.3887e-01, -5.2151e-02, -1.5635e-01,\n",
       "                       -2.2433e-02, -8.9434e-01, -1.3378e-02, -3.9870e-01, -5.8042e-02,\n",
       "                        1.5966e-01, -3.1049e-01,  1.1854e-01,  9.2439e-02, -3.0667e-01,\n",
       "                        2.5335e-01, -1.8504e-01, -7.9910e-03, -5.9932e-01,  1.2005e-01,\n",
       "                        2.9109e-01,  4.3827e-03, -3.3643e-01, -2.3621e-01,  1.1301e-01,\n",
       "                       -1.5121e-01, -4.0387e-01,  2.1332e-01, -6.4525e-02,  2.7922e-01,\n",
       "                       -1.5348e-01,  6.0107e-02,  8.4540e-02, -4.7035e-01,  5.7709e-03,\n",
       "                        2.9681e-01, -5.9340e-01, -3.5777e-02,  5.5838e-01,  1.3366e-02,\n",
       "                       -5.2244e-01, -2.3708e-01,  2.5226e-01, -2.6721e-01,  6.1543e-02,\n",
       "                       -2.3193e-01,  3.7512e-01,  6.2987e-03,  5.4769e-01,  1.0946e-01,\n",
       "                        1.3240e-01,  4.3448e-02, -2.6938e-01,  4.5007e-01, -1.3542e-01,\n",
       "                       -1.9546e-02, -2.8231e-01,  1.7497e-01,  3.9564e-01,  1.3185e-01],\n",
       "                      [ 5.8689e-02, -1.1864e+00, -3.1778e-01, -1.0949e-01,  1.8353e-01,\n",
       "                       -6.6603e-01, -5.8634e-01,  8.1276e-02,  3.4400e-01, -2.2047e-01,\n",
       "                        3.5098e-01, -7.1357e-02,  4.7019e-01,  1.0114e-01,  3.3890e-01,\n",
       "                       -1.3922e-01, -5.8637e-01, -2.3830e-01,  2.3839e-01,  2.5513e-01,\n",
       "                        1.5662e-01, -1.1176e+00, -1.5740e-01, -9.6267e-01, -9.3056e-02,\n",
       "                        3.3678e-01,  9.8869e-02, -1.1746e-01, -1.0004e+00,  3.8734e-01,\n",
       "                        5.7631e-01,  2.8783e-01,  1.9900e-02,  1.1156e-01,  2.4690e-01,\n",
       "                       -7.5089e-02, -4.8360e-01,  1.2758e-01, -9.6427e-02,  2.1045e-01,\n",
       "                        2.1434e-02,  2.1144e-01, -2.2591e-01,  6.1419e-02, -7.6501e-01,\n",
       "                       -7.4637e-02,  4.0567e-01,  1.1521e-01, -2.0199e-02,  8.5792e-02,\n",
       "                        2.5144e-01,  1.3449e-01,  1.1343e-01, -1.1690e-01, -8.3012e-02,\n",
       "                       -6.2408e-01,  1.3887e-01, -1.0876e+00,  2.2685e-01, -6.8914e-02,\n",
       "                       -6.5341e-01, -1.0550e-01, -3.5689e-02,  1.2284e-01,  2.0260e-01,\n",
       "                        7.7258e-02, -2.8415e-02, -1.9692e-01,  1.1635e-02, -6.6117e-01,\n",
       "                        8.6183e-02, -1.2896e-02, -3.9251e-01,  2.8397e-01,  4.6034e-02,\n",
       "                       -4.6451e-01,  4.0145e-01,  1.5407e-01, -7.9143e-01, -1.6969e-01,\n",
       "                        1.1155e-01, -4.4371e-01, -6.6594e-01,  2.8281e-01,  2.2436e-02,\n",
       "                        1.0018e-01, -3.1907e-01,  6.2813e-02,  2.6607e-01, -1.0036e+00,\n",
       "                       -9.5463e-01, -3.9898e-01,  1.2599e-01,  1.7771e-01, -1.3324e-01,\n",
       "                       -1.4919e-02, -2.1018e-02,  2.3008e-01, -2.5106e-02,  2.1698e-01],\n",
       "                      [-6.2489e-01,  2.4428e-01,  1.4325e-01, -7.3666e-02, -1.0100e-01,\n",
       "                        3.2688e-01,  1.1735e-01, -8.4925e-02,  3.2977e-01, -8.6775e-02,\n",
       "                       -4.3357e-01,  2.3324e-01, -8.3900e-01,  3.1973e-01,  1.5325e-01,\n",
       "                        2.2763e-01, -5.9132e-01,  4.7373e-02,  8.0273e-02,  3.6897e-01,\n",
       "                        7.4067e-03, -1.9565e-01,  8.1512e-02,  6.4543e-02,  3.4672e-01,\n",
       "                       -5.8292e-01, -4.3607e-02,  1.4635e-02, -1.3672e-02, -9.0203e-01,\n",
       "                       -2.1341e-01,  1.6989e-01,  4.6746e-02, -6.5032e-02,  6.5367e-02,\n",
       "                       -6.3501e-01, -7.2803e-01,  8.2078e-02,  7.6479e-02,  2.4036e-01,\n",
       "                        6.1659e-02,  1.5895e-01, -1.0448e+00, -1.6060e-01, -7.6412e-02,\n",
       "                        3.7255e-01,  1.4884e-01,  4.5088e-02, -7.3411e-02, -1.7534e-01,\n",
       "                       -3.8997e-01, -1.5431e-01,  2.4888e-01,  1.4045e-01,  3.4560e-01,\n",
       "                        2.0247e-01, -5.8909e-01,  3.4012e-02, -1.5233e-01,  1.1664e-01,\n",
       "                       -4.9097e-01, -4.1871e-02,  2.0037e-03, -1.8467e-01,  8.1089e-02,\n",
       "                       -3.5474e-02,  7.6334e-02, -8.4608e-01, -1.6792e-02,  6.3780e-01,\n",
       "                       -7.1493e-01,  9.5641e-02,  1.4444e-01,  2.8910e-01, -2.3261e-02,\n",
       "                        4.5250e-02,  1.2394e-01, -6.0060e-01, -2.2922e-01,  4.6535e-02,\n",
       "                       -3.8247e-01,  1.9108e-01,  8.9294e-02, -5.0374e-01,  3.7358e-01,\n",
       "                       -5.9870e-01, -3.0802e-02, -1.5186e-01,  4.7122e-01,  9.3798e-02,\n",
       "                        5.9394e-02,  2.2246e-01, -2.4791e-01, -7.6833e-02,  3.1951e-01,\n",
       "                       -8.8191e-02, -1.1891e-01,  1.7938e-03,  1.6965e-01,  1.5778e-02],\n",
       "                      [-2.3584e-01,  2.6142e-02,  4.3439e-01,  1.3648e-01,  3.1546e-01,\n",
       "                       -4.3215e-01, -9.2303e-01, -2.5928e-01, -4.1289e-01, -4.2656e-01,\n",
       "                       -3.9170e-02, -6.7183e-01,  3.9637e-01, -4.3931e-01, -2.3580e-01,\n",
       "                        2.9132e-01, -7.1604e-01, -1.1361e-01,  1.3689e-01, -1.4661e+00,\n",
       "                        7.8127e-02, -1.0402e+00, -5.0627e-01,  3.8362e-02, -3.7503e-01,\n",
       "                        1.3940e-01, -8.1764e-01,  1.9540e-01,  1.5240e-01, -6.9068e-01,\n",
       "                       -3.3579e-01,  1.3461e-02,  2.6973e-01, -2.1560e-01, -7.6576e-02,\n",
       "                       -2.0627e-01,  4.8649e-01, -4.5031e-02,  2.0656e-01, -2.1940e-01,\n",
       "                        8.6800e-02,  1.2708e-01,  3.8464e-01,  2.5016e-02, -5.4388e-02,\n",
       "                        8.1996e-02,  5.1605e-02,  1.4042e-01, -1.0299e+00, -2.0072e-01,\n",
       "                       -5.9586e-01,  2.2098e-01, -9.2903e-01, -3.8462e-01, -2.3994e-01,\n",
       "                        4.0829e-01, -1.7957e-01,  2.2309e-01,  1.8721e-01,  6.7461e-02,\n",
       "                       -2.2393e-02,  1.7401e-02,  2.6169e-01,  1.5971e-01, -4.2532e-01,\n",
       "                        2.7854e-01, -4.3231e-02, -5.1843e-01,  8.5369e-02,  1.3972e-02,\n",
       "                       -1.1656e-01,  5.2139e-02,  9.4298e-02,  2.3234e-01,  7.6084e-02,\n",
       "                        2.1318e-01,  9.9264e-02, -2.0530e-02,  1.2927e-01,  1.6928e-01,\n",
       "                        1.1665e-01,  3.1025e-01, -6.7173e-01,  1.3301e-02,  3.0811e-01,\n",
       "                       -1.5746e-01,  1.8786e-01,  1.5562e-01, -7.4649e-01, -2.9926e-01,\n",
       "                        8.9797e-03, -2.1489e-02,  9.2021e-02,  1.3878e-01, -2.8091e-01,\n",
       "                        8.2611e-02,  1.6176e-01, -6.2936e-01, -5.4280e-01, -6.1043e-02],\n",
       "                      [ 1.3216e-01,  1.4085e-01,  1.3703e-02,  4.8795e-01, -2.4984e-01,\n",
       "                        1.3028e-02,  5.9729e-02,  4.6493e-02, -8.3141e-02, -1.3811e-01,\n",
       "                        2.4179e-01,  8.3345e-02,  3.3231e-01, -5.9251e-01,  3.0660e-01,\n",
       "                       -3.0723e-02,  3.4250e-01,  6.2025e-02, -6.2059e-01, -5.2974e-01,\n",
       "                       -1.0308e-01,  4.0080e-01,  1.8832e-01,  3.8151e-01,  7.9725e-02,\n",
       "                        3.0212e-01,  3.9847e-02, -6.2487e-01, -1.5342e-01,  8.8240e-02,\n",
       "                       -1.6059e-01, -1.4886e-01, -4.8408e-01,  5.8028e-02,  8.2573e-02,\n",
       "                        1.6930e-02,  1.0289e-01, -4.5160e-01,  1.5643e-01, -4.3391e-02,\n",
       "                       -6.9105e-02, -7.0730e-01,  2.1526e-02, -2.4121e-01,  1.1313e-01,\n",
       "                       -7.0586e-02,  2.4458e-01, -4.6433e-01,  2.1442e-01,  1.5064e-01,\n",
       "                        6.4253e-02,  3.0491e-01,  1.2216e-01, -1.0956e-01,  4.2644e-01,\n",
       "                       -2.8350e-01,  1.0798e-01, -2.7995e-01,  1.5189e-01, -7.4731e-02,\n",
       "                       -7.1967e-02, -7.7629e-02, -8.1049e-01, -2.9614e-01, -7.2332e-01,\n",
       "                        2.9362e-01, -3.4950e-01, -2.5312e-02,  3.3451e-03, -4.4922e-01,\n",
       "                        2.3468e-01,  2.3244e-02, -2.2440e-01, -7.0612e-01, -1.9481e-01,\n",
       "                       -4.5387e-01, -1.2265e-01, -1.9453e-01,  3.8008e-01, -5.8659e-01,\n",
       "                        3.8568e-01,  3.8988e-01,  1.7785e-01,  4.4501e-02,  4.4296e-01,\n",
       "                        1.8555e-01, -3.1321e-01,  1.3298e-01, -1.5082e-01, -4.0905e-01,\n",
       "                        1.5463e-01,  1.4076e-01,  1.2784e-01,  7.9257e-02,  4.8024e-02,\n",
       "                       -8.1197e-02, -7.2310e-01,  6.0427e-02,  3.1700e-01, -1.3259e-01],\n",
       "                      [ 1.9840e-01,  1.1493e-01,  1.5274e-01,  1.5084e-01, -6.4608e-02,\n",
       "                        1.3532e-01, -3.3994e-02,  1.9164e-01,  8.6679e-02,  2.1567e-01,\n",
       "                       -7.1795e-01,  1.1807e-01,  2.8213e-01,  2.1231e-01, -6.1039e-01,\n",
       "                        1.3083e-01, -2.5133e-01, -2.8149e-01, -4.9858e-02, -8.7382e-01,\n",
       "                        1.3149e-01, -1.4478e-01, -1.8438e-01, -5.4418e-02, -7.4399e-02,\n",
       "                       -5.5277e-01,  7.8509e-02,  7.7062e-02,  4.0973e-02, -1.5714e-01,\n",
       "                       -6.0700e-01,  1.3923e-01,  1.3329e-01,  7.1637e-02, -5.7049e-02,\n",
       "                        4.1495e-02, -4.1218e-03,  1.4895e-01,  2.2275e-01,  2.2090e-01,\n",
       "                       -5.5282e-02,  1.1381e-01,  2.7717e-01,  1.1335e-01,  2.1271e-01,\n",
       "                        3.8589e-02, -1.2141e-01,  1.4925e-01, -2.4873e-01,  1.3797e-01,\n",
       "                       -2.4320e-03, -1.0414e+00, -5.0098e-02,  1.5463e-01, -9.5713e-01,\n",
       "                       -1.9028e-01, -2.5201e-02, -2.3348e-02,  1.0986e-01,  2.4526e-01,\n",
       "                        8.5661e-02, -1.0425e-01, -6.4221e-01,  1.8545e-02,  3.7898e-01,\n",
       "                       -2.6391e-01, -9.7808e-02,  4.8962e-02,  1.2386e-01, -6.3574e-01,\n",
       "                       -2.3431e-01, -6.2335e-02,  1.8113e-01,  1.0007e-01,  1.1577e-01,\n",
       "                        1.5853e-01,  9.8961e-02, -5.2953e-02, -8.8807e-01, -6.9718e-02,\n",
       "                       -4.9738e-01, -1.5673e-01, -2.6206e-01, -2.8824e-02, -3.9997e-01,\n",
       "                       -2.6630e-01, -4.2094e-01,  1.8550e-01, -8.3029e-01,  8.4163e-02,\n",
       "                        3.2141e-02,  1.3511e-01, -6.1128e-02, -2.5307e-01, -7.7039e-01,\n",
       "                       -1.8109e-02,  5.7837e-02,  6.3948e-02, -4.5047e-01,  2.0224e-01],\n",
       "                      [-4.3522e-01,  1.0289e-01, -1.7135e-01, -9.7599e-01,  3.0122e-01,\n",
       "                        1.5316e-01,  7.2708e-02,  7.4888e-02,  1.1002e-02,  2.1100e-01,\n",
       "                        3.2152e-01, -1.2813e-02, -6.9982e-01,  1.6238e-01, -9.6591e-01,\n",
       "                        2.0862e-01,  1.7556e-03,  1.9053e-01,  7.9738e-02,  5.4350e-01,\n",
       "                        6.6245e-03, -2.5721e-01, -5.0037e-01, -2.8391e-01,  8.2265e-02,\n",
       "                        8.1372e-02,  6.0203e-02, -6.8815e-02, -1.4586e-01,  6.0728e-02,\n",
       "                       -3.6525e-01,  1.4556e-01, -4.1094e-02,  7.9668e-02,  2.3650e-01,\n",
       "                        2.1312e-01, -1.7138e-01,  8.8347e-02, -3.6556e-01,  6.3681e-02,\n",
       "                        4.1376e-02,  1.7421e-01,  1.7198e-01, -9.2150e-02,  1.5768e-01,\n",
       "                        1.7515e-01,  2.1116e-02, -3.4730e-01,  2.0975e-01,  9.6684e-02,\n",
       "                        7.3383e-02, -1.0113e-01,  1.8041e-01, -4.7436e-02,  1.0782e-01,\n",
       "                       -2.0461e-01,  2.7944e-01, -3.7781e-01, -5.3315e-01, -2.1539e-01,\n",
       "                        3.2535e-01, -6.1997e-02, -6.6848e-01,  7.7115e-02,  2.0686e-02,\n",
       "                       -8.1135e-01,  3.4131e-01,  5.4972e-02,  1.3375e-01, -1.8439e-01,\n",
       "                       -5.0654e-02, -9.0200e-03,  1.0958e-01, -2.9550e-01, -2.4161e-02,\n",
       "                       -8.7373e-02, -5.2937e-02,  2.3957e-01, -5.2392e-01, -9.6546e-01,\n",
       "                       -2.3721e-01, -3.5286e-01, -4.3378e-02,  6.9735e-02, -8.3425e-01,\n",
       "                        4.1891e-01,  2.6975e-01,  1.9513e-01,  9.6315e-03,  1.2055e-01,\n",
       "                       -1.4152e-02, -1.0140e+00,  3.7607e-02, -1.9033e-01, -7.1129e-03,\n",
       "                       -6.7319e-02,  2.9524e-01,  7.0734e-02,  6.9586e-02, -7.6844e-01]])),\n",
       "             ('fcs.2.bias',\n",
       "              tensor([-0.0837,  0.0913, -0.1635, -0.2265,  0.2576,  0.1518,  0.0460, -0.0948,\n",
       "                       0.1538,  0.0779]))])"
      ]
     },
     "execution_count": 34,
     "metadata": {},
     "output_type": "execute_result"
    }
   ],
   "execution_count": 34
  },
  {
   "metadata": {
    "ExecuteTime": {
     "end_time": "2025-09-09T15:42:04.748010Z",
     "start_time": "2025-09-09T15:42:04.730200Z"
    }
   },
   "cell_type": "code",
   "source": [
    "def Test(model, test_DL):\n",
    "    model.eval() # test mode로 전환\n",
    "    with torch.no_grad():\n",
    "        rcorrect = 0\n",
    "        for x_batch, y_batch in test_DL:\n",
    "            x_batch = x_batch.to(DEVICE)\n",
    "            y_batch = y_batch.to(DEVICE)\n",
    "            # inference\n",
    "            y_hat = model(x_batch)\n",
    "            # corrects accumulation\n",
    "            pred = y_hat.argmax(dim=1)\n",
    "            corrects_b = torch.sum(pred == y_batch).item()\n",
    "            rcorrect += corrects_b\n",
    "        accuracy_e = rcorrect/len(test_DL.dataset)*100\n",
    "    print(f\"Test accuracy: {rcorrect}/{len(test_DL.dataset)} ({accuracy_e:.1f}%)\")\n",
    "    return round(accuracy_e,1)"
   ],
   "id": "e2902b773f0e223b",
   "outputs": [],
   "execution_count": 35
  },
  {
   "metadata": {
    "ExecuteTime": {
     "end_time": "2025-09-09T15:42:12.202378Z",
     "start_time": "2025-09-09T15:42:11.503167Z"
    }
   },
   "cell_type": "code",
   "source": "Test(model, test_DL)",
   "id": "96eb2a64a58acbab",
   "outputs": [
    {
     "name": "stdout",
     "output_type": "stream",
     "text": [
      "Test accuracy: 9785/10000 (97.9%)\n"
     ]
    },
    {
     "data": {
      "text/plain": [
       "97.9"
      ]
     },
     "execution_count": 36,
     "metadata": {},
     "output_type": "execute_result"
    }
   ],
   "execution_count": 36
  }
 ],
 "metadata": {
  "kernelspec": {
   "display_name": "Python 3",
   "language": "python",
   "name": "python3"
  },
  "language_info": {
   "codemirror_mode": {
    "name": "ipython",
    "version": 2
   },
   "file_extension": ".py",
   "mimetype": "text/x-python",
   "name": "python",
   "nbconvert_exporter": "python",
   "pygments_lexer": "ipython2",
   "version": "2.7.6"
  }
 },
 "nbformat": 4,
 "nbformat_minor": 5
}
